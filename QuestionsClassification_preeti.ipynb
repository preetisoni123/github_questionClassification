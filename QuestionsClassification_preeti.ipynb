{
 "cells": [
  {
   "cell_type": "code",
   "execution_count": 1,
   "metadata": {},
   "outputs": [
    {
     "name": "stderr",
     "output_type": "stream",
     "text": [
      "Using TensorFlow backend.\n"
     ]
    }
   ],
   "source": [
    "# import necessary libraries\n",
    "import warnings\n",
    "warnings.filterwarnings(\"ignore\")\n",
    "\n",
    "import numpy as np\n",
    "\n",
    "from matplotlib import pyplot as plt\n",
    "\n",
    "from nltk.corpus import brown\n",
    "from nltk.corpus import treebank\n",
    "from nltk.corpus import conll2000\n",
    "\n",
    "import seaborn as sns\n",
    "\n",
    "from gensim.models import KeyedVectors\n",
    "\n",
    "from keras.preprocessing.sequence import pad_sequences\n",
    "from keras.utils.np_utils import to_categorical\n",
    "from keras.models import Sequential\n",
    "from keras.layers import Embedding\n",
    "from keras.layers import Dense, Input\n",
    "from keras.layers import TimeDistributed\n",
    "from keras.layers import LSTM, GRU, Bidirectional, SimpleRNN, RNN\n",
    "from keras.models import Model\n",
    "from keras.preprocessing.text import Tokenizer\n",
    "\n",
    "from sklearn.model_selection import train_test_split\n",
    "from sklearn.utils import shuffle\n",
    "\n",
    "import pandas as pd\n"
   ]
  },
  {
   "cell_type": "code",
   "execution_count": 2,
   "metadata": {},
   "outputs": [],
   "source": [
    "dataset = pd.read_csv(r\"C:\\Users\\Preeti\\Neural Network\\RNN\\QuestionsClassification\\\\10k_logical_quant.csv\")"
   ]
  },
  {
   "cell_type": "code",
   "execution_count": 3,
   "metadata": {},
   "outputs": [
    {
     "data": {
      "text/html": [
       "<div>\n",
       "<style scoped>\n",
       "    .dataframe tbody tr th:only-of-type {\n",
       "        vertical-align: middle;\n",
       "    }\n",
       "\n",
       "    .dataframe tbody tr th {\n",
       "        vertical-align: top;\n",
       "    }\n",
       "\n",
       "    .dataframe thead th {\n",
       "        text-align: right;\n",
       "    }\n",
       "</style>\n",
       "<table border=\"1\" class=\"dataframe\">\n",
       "  <thead>\n",
       "    <tr style=\"text-align: right;\">\n",
       "      <th></th>\n",
       "      <th>Unnamed: 0</th>\n",
       "      <th>url</th>\n",
       "      <th>bucketId</th>\n",
       "      <th>QuestionId</th>\n",
       "      <th></th>\n",
       "      <th>QuestionData</th>\n",
       "      <th>SolutionData</th>\n",
       "      <th>Unnamed: 7</th>\n",
       "      <th>Unnamed: 8</th>\n",
       "      <th>Unnamed: 9</th>\n",
       "      <th>...</th>\n",
       "      <th>Unnamed: 511</th>\n",
       "      <th>Unnamed: 512</th>\n",
       "      <th>Unnamed: 513</th>\n",
       "      <th>Unnamed: 514</th>\n",
       "      <th>Unnamed: 515</th>\n",
       "      <th>Unnamed: 516</th>\n",
       "      <th>Unnamed: 517</th>\n",
       "      <th>Unnamed: 518</th>\n",
       "      <th>Unnamed: 519</th>\n",
       "      <th>Unnamed: 520</th>\n",
       "    </tr>\n",
       "  </thead>\n",
       "  <tbody>\n",
       "    <tr>\n",
       "      <th>0</th>\n",
       "      <td>0</td>\n",
       "      <td>/quantitativeaptitude/algebra_bucket/algebaric...</td>\n",
       "      <td>1930</td>\n",
       "      <td>12444</td>\n",
       "      <td>0</td>\n",
       "      <td>{\"title\":\"Findvalue of 43 + 4 + 3 – 2 – 8 – 16...</td>\n",
       "      <td>question:\"&lt;span&gt;Find the value of 43 +&amp;nbsp;&lt;i...</td>\n",
       "      <td>answers:[{\"text\":\"&lt;span&gt;24.638&lt;/span&gt;\"}</td>\n",
       "      <td>{\"text\":\"&lt;span&gt;25.638&lt;/span&gt;\"}</td>\n",
       "      <td>{\"text\":\"&lt;span&gt;26.638&lt;/span&gt;\"}</td>\n",
       "      <td>...</td>\n",
       "      <td>NaN</td>\n",
       "      <td>NaN</td>\n",
       "      <td>NaN</td>\n",
       "      <td>NaN</td>\n",
       "      <td>NaN</td>\n",
       "      <td>NaN</td>\n",
       "      <td>NaN</td>\n",
       "      <td>NaN</td>\n",
       "      <td>NaN</td>\n",
       "      <td>NaN</td>\n",
       "    </tr>\n",
       "    <tr>\n",
       "      <th>1</th>\n",
       "      <td>1</td>\n",
       "      <td>/quantitativeaptitude/algebra_bucket/algebaric...</td>\n",
       "      <td>1930</td>\n",
       "      <td>109000</td>\n",
       "      <td>0</td>\n",
       "      <td>{\"title\":\"If x + y = 7</td>\n",
       "      <td>then what will be the valu...\"</td>\n",
       "      <td>question:\"If x + y = 7</td>\n",
       "      <td>then what will be the value of x&lt;sup&gt;3&lt;/sup&gt; ...</td>\n",
       "      <td>answers:[{\"text\":\"21\"}</td>\n",
       "      <td>...</td>\n",
       "      <td>NaN</td>\n",
       "      <td>NaN</td>\n",
       "      <td>NaN</td>\n",
       "      <td>NaN</td>\n",
       "      <td>NaN</td>\n",
       "      <td>NaN</td>\n",
       "      <td>NaN</td>\n",
       "      <td>NaN</td>\n",
       "      <td>NaN</td>\n",
       "      <td>NaN</td>\n",
       "    </tr>\n",
       "    <tr>\n",
       "      <th>2</th>\n",
       "      <td>2</td>\n",
       "      <td>/quantitativeaptitude/algebra_bucket/algebaric...</td>\n",
       "      <td>1930</td>\n",
       "      <td>143204</td>\n",
       "      <td>0</td>\n",
       "      <td>'{\"title\":\"If (x+ y – z)2 + (y + z- x)2 + (z+ ...</td>\n",
       "      <td>question:\"&lt;span&gt;If (x\\n+ y – z)&lt;sup&gt;2&lt;/sup&gt; + ...</td>\n",
       "      <td>then\\nthe value of x + y – z is:&lt;/span&gt;\"</td>\n",
       "      <td>answers:[{\"text\":\"√3\"}</td>\n",
       "      <td>{\"text\":\"3√3\"}</td>\n",
       "      <td>...</td>\n",
       "      <td>NaN</td>\n",
       "      <td>NaN</td>\n",
       "      <td>NaN</td>\n",
       "      <td>NaN</td>\n",
       "      <td>NaN</td>\n",
       "      <td>NaN</td>\n",
       "      <td>NaN</td>\n",
       "      <td>NaN</td>\n",
       "      <td>NaN</td>\n",
       "      <td>NaN</td>\n",
       "    </tr>\n",
       "    <tr>\n",
       "      <th>3</th>\n",
       "      <td>3</td>\n",
       "      <td>/quantitativeaptitude/algebra_bucket/algebaric...</td>\n",
       "      <td>1930</td>\n",
       "      <td>110308</td>\n",
       "      <td>0</td>\n",
       "      <td>'{\"title\":\"The value of expression:(x2−y2)3+(y...</td>\n",
       "      <td>question:\"The value of expression:&lt;div&gt;&lt;inline...</td>\n",
       "      <td>answers:[{\"text\":\"&lt;p&gt;(x&lt;sup&gt;2&lt;/sup&gt;-y&lt;sup&gt;2&lt;/s...</td>\n",
       "      <td>{\"text\":\"&lt;span style=\\\"font-family: Verdana</td>\n",
       "      <td>Arial</td>\n",
       "      <td>...</td>\n",
       "      <td>NaN</td>\n",
       "      <td>NaN</td>\n",
       "      <td>NaN</td>\n",
       "      <td>NaN</td>\n",
       "      <td>NaN</td>\n",
       "      <td>NaN</td>\n",
       "      <td>NaN</td>\n",
       "      <td>NaN</td>\n",
       "      <td>NaN</td>\n",
       "      <td>NaN</td>\n",
       "    </tr>\n",
       "    <tr>\n",
       "      <th>4</th>\n",
       "      <td>4</td>\n",
       "      <td>/quantitativeaptitude/algebra_bucket/algebaric...</td>\n",
       "      <td>1930</td>\n",
       "      <td>142958</td>\n",
       "      <td>0</td>\n",
       "      <td>'{\"title\":\"If 4x= 18 y</td>\n",
       "      <td>then the value of (xy\\\\cfrac...\"</td>\n",
       "      <td>question:\"If 4x= 18 y</td>\n",
       "      <td>then the value of (&lt;inlineformula&gt;\\\\cfrac{x}{...</td>\n",
       "      <td>answers:[{\"text\":\"&lt;inlineformula&gt;\\\\cfrac{1}{3}...</td>\n",
       "      <td>...</td>\n",
       "      <td>NaN</td>\n",
       "      <td>NaN</td>\n",
       "      <td>NaN</td>\n",
       "      <td>NaN</td>\n",
       "      <td>NaN</td>\n",
       "      <td>NaN</td>\n",
       "      <td>NaN</td>\n",
       "      <td>NaN</td>\n",
       "      <td>NaN</td>\n",
       "      <td>NaN</td>\n",
       "    </tr>\n",
       "  </tbody>\n",
       "</table>\n",
       "<p>5 rows × 521 columns</p>\n",
       "</div>"
      ],
      "text/plain": [
       "  Unnamed: 0                                                url bucketId  \\\n",
       "0          0  /quantitativeaptitude/algebra_bucket/algebaric...     1930   \n",
       "1          1  /quantitativeaptitude/algebra_bucket/algebaric...     1930   \n",
       "2          2  /quantitativeaptitude/algebra_bucket/algebaric...     1930   \n",
       "3          3  /quantitativeaptitude/algebra_bucket/algebaric...     1930   \n",
       "4          4  /quantitativeaptitude/algebra_bucket/algebaric...     1930   \n",
       "\n",
       "  QuestionId                                          QuestionData  \\\n",
       "0      12444  0  {\"title\":\"Findvalue of 43 + 4 + 3 – 2 – 8 – 16...   \n",
       "1     109000  0                             {\"title\":\"If x + y = 7   \n",
       "2     143204  0  '{\"title\":\"If (x+ y – z)2 + (y + z- x)2 + (z+ ...   \n",
       "3     110308  0  '{\"title\":\"The value of expression:(x2−y2)3+(y...   \n",
       "4     142958  0                             '{\"title\":\"If 4x= 18 y   \n",
       "\n",
       "                                        SolutionData  \\\n",
       "0  question:\"<span>Find the value of 43 +&nbsp;<i...   \n",
       "1                     then what will be the valu...\"   \n",
       "2  question:\"<span>If (x\\n+ y – z)<sup>2</sup> + ...   \n",
       "3  question:\"The value of expression:<div><inline...   \n",
       "4                   then the value of (xy\\\\cfrac...\"   \n",
       "\n",
       "                                          Unnamed: 7  \\\n",
       "0            answers:[{\"text\":\"<span>24.638</span>\"}   \n",
       "1                             question:\"If x + y = 7   \n",
       "2           then\\nthe value of x + y – z is:</span>\"   \n",
       "3  answers:[{\"text\":\"<p>(x<sup>2</sup>-y<sup>2</s...   \n",
       "4                              question:\"If 4x= 18 y   \n",
       "\n",
       "                                          Unnamed: 8  \\\n",
       "0                     {\"text\":\"<span>25.638</span>\"}   \n",
       "1   then what will be the value of x<sup>3</sup> ...   \n",
       "2                             answers:[{\"text\":\"√3\"}   \n",
       "3        {\"text\":\"<span style=\\\"font-family: Verdana   \n",
       "4   then the value of (<inlineformula>\\\\cfrac{x}{...   \n",
       "\n",
       "                                          Unnamed: 9     ...       \\\n",
       "0                     {\"text\":\"<span>26.638</span>\"}     ...        \n",
       "1                             answers:[{\"text\":\"21\"}     ...        \n",
       "2                                     {\"text\":\"3√3\"}     ...        \n",
       "3                                              Arial     ...        \n",
       "4  answers:[{\"text\":\"<inlineformula>\\\\cfrac{1}{3}...     ...        \n",
       "\n",
       "  Unnamed: 511 Unnamed: 512 Unnamed: 513 Unnamed: 514 Unnamed: 515  \\\n",
       "0          NaN          NaN          NaN          NaN          NaN   \n",
       "1          NaN          NaN          NaN          NaN          NaN   \n",
       "2          NaN          NaN          NaN          NaN          NaN   \n",
       "3          NaN          NaN          NaN          NaN          NaN   \n",
       "4          NaN          NaN          NaN          NaN          NaN   \n",
       "\n",
       "  Unnamed: 516 Unnamed: 517 Unnamed: 518 Unnamed: 519 Unnamed: 520  \n",
       "0          NaN          NaN          NaN          NaN          NaN  \n",
       "1          NaN          NaN          NaN          NaN          NaN  \n",
       "2          NaN          NaN          NaN          NaN          NaN  \n",
       "3          NaN          NaN          NaN          NaN          NaN  \n",
       "4          NaN          NaN          NaN          NaN          NaN  \n",
       "\n",
       "[5 rows x 521 columns]"
      ]
     },
     "execution_count": 3,
     "metadata": {},
     "output_type": "execute_result"
    }
   ],
   "source": [
    "dataset.head()"
   ]
  },
  {
   "cell_type": "code",
   "execution_count": 4,
   "metadata": {},
   "outputs": [
    {
     "name": "stdout",
     "output_type": "stream",
     "text": [
      "0        {\"title\":\"Findvalue of 43 + 4 + 3 – 2 – 8 – 16...\n",
      "1        {\"title\":\"If x + y = 7  then what will be the ...\n",
      "2        '{\"title\":\"If (x+ y – z)2 + (y + z- x)2 + (z+ ...\n",
      "3        '{\"title\":\"The value of expression:(x2−y2)3+(y...\n",
      "4        '{\"title\":\"If 4x= 18 y  then the value of (xy\\...\n",
      "5        '{\"title\":\"The solution for 2xx+3−4x−3=−6x+3\\\\...\n",
      "6        '{\"title\":\"The L.C.M of the polynomials X and ...\n",
      "7        '{\"title\":\"9 (x+y)2 - 4x2 can be factorised as...\n",
      "8        '{\"title\":\"Find the value of 0.8×0.8×0.8×0.8×0...\n",
      "9        '{\"title\":\"If x100 + 2x99 + K   is divisible b...\n",
      "10       '{\"title\":\"An examiner awards the highest mark...\n",
      "11       '{\"title\":\"If\\nx- y = 2  xy = 24  then the val...\n",
      "12       '{\"title\":\"Simplified value of (1.25)3 - 2.25 ...\n",
      "13       '{\"title\":\"If1x+y\\\\cfrac{1}{x+y} = 1x\\\\cfrac{1...\n",
      "14       '{\"title\":\"If (x+2) and (x-1) are the factors ...\n",
      "15       '{\"title\":\"If\\nx + 1x\\\\cfrac{1}{x} = 2  x ≠ 0 ...\n",
      "16       '{\"title\":\"If\\n9x – 92x\\\\cfrac{9}{2x}= 18  the...\n",
      "17       '{\"title\":\"One of the factors of a6 + b6 - a2 ...\n",
      "18       '{\"title\":\"If kx3 + 9x2 + 4x - 10 divided by x...\n",
      "19       '{\"title\":\"Ifx2 + 1x2\\\\cfrac{1}{x^2} = 51  the...\n",
      "20       '{\"title\":\"If ab\\\\cfrac{a}{b} + ba\\\\cfrac{b}{a...\n",
      "21       '{\"title\":\"Find the value of 1600 + 8 – 4 – 6 ...\n",
      "22       '{\"title\":\"Which one of the following statemen...\n",
      "23       '{\"title\":\"The expression 52x - 23x has a fact...\n",
      "24       '{\"title\":\"x2−y2−2yz−z2x2+y2+2yz−z2    =?\\\\cfr...\n",
      "25       '{\"title\":\"The value of 4.8×0.39×2.250.16×1.5×...\n",
      "26       '{\"title\":\"If x – 1x\\\\cfrac{1}{x} = 6  find th...\n",
      "27       '{\"title\":\"Ifx = (0.08)2  y = 1(0.08)2\\\\cfrac{...\n",
      "28       '{\"title\":\"465.84 + 764.86 – 211.99 = ?\" quest...\n",
      "29       '{\"title\":\"If 5x – 5x\\\\cfrac{5}{x} = 10  then ...\n",
      "                               ...                        \n",
      "11628    '{\"title\":\"Comp: Direction: Each question is b...\n",
      "11629    '{\"title\":\"Comp: Each of the following questio...\n",
      "11630    '{\"title\":\"Comp: In these questions which one ...\n",
      "11631    '{\"title\":\"DIRECTIONS:\\u00a0In the following q...\n",
      "11632    '{\"title\":\"Two words are given. Using the lett...\n",
      "11633    '{\"title\":\"Comp: Direction: Each question is b...\n",
      "11634    '{\"title\":\"Comp: Reverse the following sequenc...\n",
      "11635    '{\"title\":\"If it is possible to make only one ...\n",
      "11636    '{\"title\":\"If in the word ISOLATE  all the con...\n",
      "11637    '{\"title\":\"Comp: Reverse the following sequenc...\n",
      "11638    '{\"title\":\"Comp: Each question is based on the...\n",
      "11639    '{\"title\":\"Which single letter when added to t...\n",
      "11640    '{\"title\":\"Two letters in the word ROUBLE have...\n",
      "11641    '{\"title\":\"Howmany pairs of letters are there ...\n",
      "11642    '{\"title\":\"Comp: In each of the following ques...\n",
      "11643    '{\"title\":\"A group of alphabets are given with...\n",
      "11644    '{\"title\":\"If with the help of 2nd  5th  6th  ...\n",
      "11645    '{\"title\":\"Arrange the following words accordi...\n",
      "11646    '{\"title\":\"How many pairs of letters are there...\n",
      "11647    '{\"title\":\"How many pairs of letters are there...\n",
      "11648    '{\"title\":\"Comp: Direction: Each question is b...\n",
      "11649    '{\"title\":\"A meaningful word starting with A i...\n",
      "11650    '{\"title\":\"Comp:  Letters of the words given b...\n",
      "11651    '{\"title\":\"Comp: DIRECTIONS: In the following ...\n",
      "11652    '{\"title\":\"How many pairs of letters are there...\n",
      "11653    '{\"title\":\"Which one word can be formed from t...\n",
      "11654    '{\"title\":\"Comp: Each question is based on the...\n",
      "11655    '{\"title\":\"A word is represented by only one s...\n",
      "11656    '{\"title\":\"Comp: DIRECTIONS: The question give...\n",
      "11657    '{\"title\":\"Comp: DIRECTIONS: A word is represe...\n",
      "Name: CompleteQuestion_data, Length: 11658, dtype: object\n"
     ]
    }
   ],
   "source": [
    "dataset['CompleteQuestion_data'] = dataset['QuestionData'] +' '+ dataset['SolutionData'] + \" \" + dataset['Unnamed: 7'] + \"  \" + dataset['Unnamed: 8'] + \"  \" + dataset['Unnamed: 9'] + \"  \" + dataset['Unnamed: 10'] \n",
    "print(dataset[\"CompleteQuestion_data\"])"
   ]
  },
  {
   "cell_type": "code",
   "execution_count": 5,
   "metadata": {},
   "outputs": [],
   "source": [
    "# Drop coulmns which are combined in \"Question_data\"\n",
    "dataset = dataset.drop(['QuestionData', 'SolutionData', 'Unnamed: 7', 'Unnamed: 8', 'Unnamed: 9', 'Unnamed: 10'], axis = 1) "
   ]
  },
  {
   "cell_type": "code",
   "execution_count": 6,
   "metadata": {},
   "outputs": [],
   "source": [
    "# Checking is question is there inthe completeQuestion_data\n",
    "dataset['check'] = map(lambda x: x.find('question'), dataset['CompleteQuestion_data'])\n",
    "#dataset.head()"
   ]
  },
  {
   "cell_type": "code",
   "execution_count": 7,
   "metadata": {},
   "outputs": [],
   "source": [
    "dataset = dataset.drop(['check'] , axis = 1)"
   ]
  },
  {
   "cell_type": "code",
   "execution_count": 8,
   "metadata": {},
   "outputs": [
    {
     "data": {
      "text/html": [
       "<div>\n",
       "<style scoped>\n",
       "    .dataframe tbody tr th:only-of-type {\n",
       "        vertical-align: middle;\n",
       "    }\n",
       "\n",
       "    .dataframe tbody tr th {\n",
       "        vertical-align: top;\n",
       "    }\n",
       "\n",
       "    .dataframe thead th {\n",
       "        text-align: right;\n",
       "    }\n",
       "</style>\n",
       "<table border=\"1\" class=\"dataframe\">\n",
       "  <thead>\n",
       "    <tr style=\"text-align: right;\">\n",
       "      <th></th>\n",
       "      <th>url</th>\n",
       "      <th>bucketId</th>\n",
       "      <th>QuestionId</th>\n",
       "      <th>CompleteQuestion_data</th>\n",
       "    </tr>\n",
       "  </thead>\n",
       "  <tbody>\n",
       "    <tr>\n",
       "      <th>0</th>\n",
       "      <td>/quantitativeaptitude/algebra_bucket/algebaric...</td>\n",
       "      <td>1930</td>\n",
       "      <td>12444</td>\n",
       "      <td>{\"title\":\"Findvalue of 43 + 4 + 3 – 2 – 8 – 16...</td>\n",
       "    </tr>\n",
       "    <tr>\n",
       "      <th>1</th>\n",
       "      <td>/quantitativeaptitude/algebra_bucket/algebaric...</td>\n",
       "      <td>1930</td>\n",
       "      <td>109000</td>\n",
       "      <td>{\"title\":\"If x + y = 7  then what will be the ...</td>\n",
       "    </tr>\n",
       "    <tr>\n",
       "      <th>2</th>\n",
       "      <td>/quantitativeaptitude/algebra_bucket/algebaric...</td>\n",
       "      <td>1930</td>\n",
       "      <td>143204</td>\n",
       "      <td>'{\"title\":\"If (x+ y – z)2 + (y + z- x)2 + (z+ ...</td>\n",
       "    </tr>\n",
       "    <tr>\n",
       "      <th>3</th>\n",
       "      <td>/quantitativeaptitude/algebra_bucket/algebaric...</td>\n",
       "      <td>1930</td>\n",
       "      <td>110308</td>\n",
       "      <td>'{\"title\":\"The value of expression:(x2−y2)3+(y...</td>\n",
       "    </tr>\n",
       "    <tr>\n",
       "      <th>4</th>\n",
       "      <td>/quantitativeaptitude/algebra_bucket/algebaric...</td>\n",
       "      <td>1930</td>\n",
       "      <td>142958</td>\n",
       "      <td>'{\"title\":\"If 4x= 18 y  then the value of (xy\\...</td>\n",
       "    </tr>\n",
       "  </tbody>\n",
       "</table>\n",
       "</div>"
      ],
      "text/plain": [
       "                                                 url bucketId QuestionId  \\\n",
       "0  /quantitativeaptitude/algebra_bucket/algebaric...     1930      12444   \n",
       "1  /quantitativeaptitude/algebra_bucket/algebaric...     1930     109000   \n",
       "2  /quantitativeaptitude/algebra_bucket/algebaric...     1930     143204   \n",
       "3  /quantitativeaptitude/algebra_bucket/algebaric...     1930     110308   \n",
       "4  /quantitativeaptitude/algebra_bucket/algebaric...     1930     142958   \n",
       "\n",
       "                               CompleteQuestion_data  \n",
       "0  {\"title\":\"Findvalue of 43 + 4 + 3 – 2 – 8 – 16...  \n",
       "1  {\"title\":\"If x + y = 7  then what will be the ...  \n",
       "2  '{\"title\":\"If (x+ y – z)2 + (y + z- x)2 + (z+ ...  \n",
       "3  '{\"title\":\"The value of expression:(x2−y2)3+(y...  \n",
       "4  '{\"title\":\"If 4x= 18 y  then the value of (xy\\...  "
      ]
     },
     "execution_count": 8,
     "metadata": {},
     "output_type": "execute_result"
    }
   ],
   "source": [
    "dataset_new = dataset[['url','bucketId','QuestionId', 'CompleteQuestion_data']]\n",
    "dataset_new.head()"
   ]
  },
  {
   "cell_type": "code",
   "execution_count": 9,
   "metadata": {},
   "outputs": [],
   "source": [
    "from bs4 import BeautifulSoup\n",
    "# Before running any regular expression, try running this\n",
    "dataset_new['CompleteQuestion_data'] = dataset_new['CompleteQuestion_data'].astype('str')"
   ]
  },
  {
   "cell_type": "code",
   "execution_count": 10,
   "metadata": {},
   "outputs": [],
   "source": [
    "dataset_new['CompleteQuestion_data'] = [BeautifulSoup(text).get_text() for text in dataset_new['CompleteQuestion_data'] ]"
   ]
  },
  {
   "cell_type": "code",
   "execution_count": 11,
   "metadata": {},
   "outputs": [],
   "source": [
    "dataset_new['check'] = map(lambda x: x.find('answers'), dataset['CompleteQuestion_data'])"
   ]
  },
  {
   "cell_type": "code",
   "execution_count": 12,
   "metadata": {},
   "outputs": [],
   "source": [
    "dataset_new = dataset_new.drop('check', axis = 1)"
   ]
  },
  {
   "cell_type": "code",
   "execution_count": 13,
   "metadata": {},
   "outputs": [],
   "source": [
    "dataset_new['Question_data'] = dataset_new['CompleteQuestion_data'].replace(regex=True,to_replace=r'answers*',value=r'')"
   ]
  },
  {
   "cell_type": "code",
   "execution_count": 14,
   "metadata": {},
   "outputs": [
    {
     "name": "stdout",
     "output_type": "stream",
     "text": [
      "0    \"Find the value of 43 + \\\\cfrac{4}{9}+\\\\cfrac{...\n",
      "1    \"If x + y = 7   then what will be the value of...\n",
      "2    \"If (x\\n+ y – z)2 + (y + z- x)2 + (z+ x- y)2 =...\n",
      "3    \"The value of expression:\\\\cfrac{(x^2-y^2)^3+ ...\n",
      "4    \"If 4x= 18 y   then the value of (\\\\cfrac{x}{y...\n",
      "Name: Question_data, dtype: object\n"
     ]
    }
   ],
   "source": [
    "#dataset_new['Question_data_2'] = \n",
    "dataset_new['Question_data'].replace(regex=True, to_replace=r'.*question:',inplace=True,value=r'')\n",
    "#dataset_new['Question_data'] = dataset_new['Question_data'].map(lambda x: x.lstrip('+-').rstrip('aAbBcC'))\n",
    "print(dataset_new['Question_data'].head())"
   ]
  },
  {
   "cell_type": "code",
   "execution_count": 15,
   "metadata": {},
   "outputs": [],
   "source": [
    "# This may not be needed\n",
    "dataset_new.Question_data = dataset_new.Question_data.str.replace('<[^<]+?>', '') "
   ]
  },
  {
   "cell_type": "code",
   "execution_count": 16,
   "metadata": {},
   "outputs": [],
   "source": [
    "#replacements << ['â€¦', '…']           # elipsis\n",
    "#replacements << ['â€“', '–']           # long hyphen\n",
    "#replacements << ['â€™', '’']           # curly apostrophe\n",
    "#replacements << ['â€œ', '“']           # curly open quote\n",
    "#replacements << [/â€[[:cntrl:]]/, '”'] # curly close quote\n",
    "\n",
    "#â€œ = left quote = “\n",
    "#â€ = right quote = ”\n",
    "\n",
    "#â€˜ = left single quote = ‘\n",
    "#â€™ = right single quote = ’\n",
    "\n",
    "#â€” = en dash = –\n",
    "#â€“ = em dash = —\n",
    "\n",
    "#â€¢ = hyphen = -\n",
    "#â€¦ = ellipsis = …\n",
    "\n",
    "dataset_new.Question_data = dataset_new.Question_data.str.replace('â€œ', '“')\n",
    "dataset_new.Question_data = dataset_new.Question_data.str.replace('â€', '”')\n",
    "\n",
    "dataset_new.Question_data = dataset_new.Question_data.str.replace('â€˜', '“')\n",
    "dataset_new.Question_data = dataset_new.Question_data.str.replace('â€™', '”')\n",
    "\n",
    "dataset_new.Question_data = dataset_new.Question_data.str.replace('â€”', '“')\n",
    "dataset_new.Question_data = dataset_new.Question_data.str.replace('â€“', '”')\n",
    "\n",
    "dataset_new.Question_data = dataset_new.Question_data.str.replace('â€¢', '“')\n",
    "dataset_new.Question_data = dataset_new.Question_data.str.replace('â€¦', '”')"
   ]
  },
  {
   "cell_type": "code",
   "execution_count": 17,
   "metadata": {},
   "outputs": [],
   "source": [
    "dataset_new.Question_data = dataset_new.Question_data.str.replace('\"', '') "
   ]
  },
  {
   "cell_type": "code",
   "execution_count": 18,
   "metadata": {},
   "outputs": [
    {
     "data": {
      "text/html": [
       "<div>\n",
       "<style scoped>\n",
       "    .dataframe tbody tr th:only-of-type {\n",
       "        vertical-align: middle;\n",
       "    }\n",
       "\n",
       "    .dataframe tbody tr th {\n",
       "        vertical-align: top;\n",
       "    }\n",
       "\n",
       "    .dataframe thead th {\n",
       "        text-align: right;\n",
       "    }\n",
       "</style>\n",
       "<table border=\"1\" class=\"dataframe\">\n",
       "  <thead>\n",
       "    <tr style=\"text-align: right;\">\n",
       "      <th></th>\n",
       "      <th>url</th>\n",
       "      <th>bucketId</th>\n",
       "      <th>QuestionId</th>\n",
       "      <th>Question_data</th>\n",
       "    </tr>\n",
       "  </thead>\n",
       "  <tbody>\n",
       "    <tr>\n",
       "      <th>0</th>\n",
       "      <td>/quantitativeaptitude/algebra_bucket/algebaric...</td>\n",
       "      <td>1930</td>\n",
       "      <td>12444</td>\n",
       "      <td>Find the value of 43 + \\\\cfrac{4}{9}+\\\\cfrac{3...</td>\n",
       "    </tr>\n",
       "    <tr>\n",
       "      <th>1</th>\n",
       "      <td>/quantitativeaptitude/algebra_bucket/algebaric...</td>\n",
       "      <td>1930</td>\n",
       "      <td>109000</td>\n",
       "      <td>If x + y = 7   then what will be the value of ...</td>\n",
       "    </tr>\n",
       "    <tr>\n",
       "      <th>2</th>\n",
       "      <td>/quantitativeaptitude/algebra_bucket/algebaric...</td>\n",
       "      <td>1930</td>\n",
       "      <td>143204</td>\n",
       "      <td>If (x\\n+ y – z)2 + (y + z- x)2 + (z+ x- y)2 = ...</td>\n",
       "    </tr>\n",
       "    <tr>\n",
       "      <th>3</th>\n",
       "      <td>/quantitativeaptitude/algebra_bucket/algebaric...</td>\n",
       "      <td>1930</td>\n",
       "      <td>110308</td>\n",
       "      <td>The value of expression:\\\\cfrac{(x^2-y^2)^3+ (...</td>\n",
       "    </tr>\n",
       "    <tr>\n",
       "      <th>4</th>\n",
       "      <td>/quantitativeaptitude/algebra_bucket/algebaric...</td>\n",
       "      <td>1930</td>\n",
       "      <td>142958</td>\n",
       "      <td>If 4x= 18 y   then the value of (\\\\cfrac{x}{y}...</td>\n",
       "    </tr>\n",
       "  </tbody>\n",
       "</table>\n",
       "</div>"
      ],
      "text/plain": [
       "                                                 url bucketId QuestionId  \\\n",
       "0  /quantitativeaptitude/algebra_bucket/algebaric...     1930      12444   \n",
       "1  /quantitativeaptitude/algebra_bucket/algebaric...     1930     109000   \n",
       "2  /quantitativeaptitude/algebra_bucket/algebaric...     1930     143204   \n",
       "3  /quantitativeaptitude/algebra_bucket/algebaric...     1930     110308   \n",
       "4  /quantitativeaptitude/algebra_bucket/algebaric...     1930     142958   \n",
       "\n",
       "                                       Question_data  \n",
       "0  Find the value of 43 + \\\\cfrac{4}{9}+\\\\cfrac{3...  \n",
       "1  If x + y = 7   then what will be the value of ...  \n",
       "2  If (x\\n+ y – z)2 + (y + z- x)2 + (z+ x- y)2 = ...  \n",
       "3  The value of expression:\\\\cfrac{(x^2-y^2)^3+ (...  \n",
       "4  If 4x= 18 y   then the value of (\\\\cfrac{x}{y}...  "
      ]
     },
     "execution_count": 18,
     "metadata": {},
     "output_type": "execute_result"
    }
   ],
   "source": [
    "#dataset_new = dataset_new.drop([\"CompleteQuestion_data\", \"Question_data_2\"], axis = 1)\n",
    "dataset_new = dataset_new.drop([\"CompleteQuestion_data\"], axis = 1)\n",
    "dataset_new.head()"
   ]
  },
  {
   "cell_type": "code",
   "execution_count": 19,
   "metadata": {},
   "outputs": [
    {
     "name": "stderr",
     "output_type": "stream",
     "text": [
      "C:\\ProgramData\\Anaconda3\\lib\\site-packages\\bs4\\__init__.py:273: UserWarning: \"b'.'\" looks like a filename, not markup. You should probably open this file and pass the filehandle into Beautiful Soup.\n",
      "  ' Beautiful Soup.' % markup)\n",
      "C:\\ProgramData\\Anaconda3\\lib\\site-packages\\bs4\\__init__.py:273: UserWarning: \"b'.'\" looks like a filename, not markup. You should probably open this file and pass the filehandle into Beautiful Soup.\n",
      "  ' Beautiful Soup.' % markup)\n",
      "C:\\ProgramData\\Anaconda3\\lib\\site-packages\\bs4\\__init__.py:273: UserWarning: \"b'.'\" looks like a filename, not markup. You should probably open this file and pass the filehandle into Beautiful Soup.\n",
      "  ' Beautiful Soup.' % markup)\n",
      "C:\\ProgramData\\Anaconda3\\lib\\site-packages\\bs4\\__init__.py:273: UserWarning: \"b'.'\" looks like a filename, not markup. You should probably open this file and pass the filehandle into Beautiful Soup.\n",
      "  ' Beautiful Soup.' % markup)\n",
      "C:\\ProgramData\\Anaconda3\\lib\\site-packages\\bs4\\__init__.py:273: UserWarning: \"b'.'\" looks like a filename, not markup. You should probably open this file and pass the filehandle into Beautiful Soup.\n",
      "  ' Beautiful Soup.' % markup)\n",
      "C:\\ProgramData\\Anaconda3\\lib\\site-packages\\bs4\\__init__.py:273: UserWarning: \"b'.'\" looks like a filename, not markup. You should probably open this file and pass the filehandle into Beautiful Soup.\n",
      "  ' Beautiful Soup.' % markup)\n",
      "C:\\ProgramData\\Anaconda3\\lib\\site-packages\\bs4\\__init__.py:273: UserWarning: \"b'.'\" looks like a filename, not markup. You should probably open this file and pass the filehandle into Beautiful Soup.\n",
      "  ' Beautiful Soup.' % markup)\n",
      "C:\\ProgramData\\Anaconda3\\lib\\site-packages\\bs4\\__init__.py:273: UserWarning: \"b'.'\" looks like a filename, not markup. You should probably open this file and pass the filehandle into Beautiful Soup.\n",
      "  ' Beautiful Soup.' % markup)\n",
      "C:\\ProgramData\\Anaconda3\\lib\\site-packages\\bs4\\__init__.py:273: UserWarning: \"b'.'\" looks like a filename, not markup. You should probably open this file and pass the filehandle into Beautiful Soup.\n",
      "  ' Beautiful Soup.' % markup)\n",
      "C:\\ProgramData\\Anaconda3\\lib\\site-packages\\bs4\\__init__.py:273: UserWarning: \"b'.'\" looks like a filename, not markup. You should probably open this file and pass the filehandle into Beautiful Soup.\n",
      "  ' Beautiful Soup.' % markup)\n",
      "C:\\ProgramData\\Anaconda3\\lib\\site-packages\\bs4\\__init__.py:273: UserWarning: \"b'.'\" looks like a filename, not markup. You should probably open this file and pass the filehandle into Beautiful Soup.\n",
      "  ' Beautiful Soup.' % markup)\n",
      "C:\\ProgramData\\Anaconda3\\lib\\site-packages\\bs4\\__init__.py:273: UserWarning: \"b'.'\" looks like a filename, not markup. You should probably open this file and pass the filehandle into Beautiful Soup.\n",
      "  ' Beautiful Soup.' % markup)\n",
      "C:\\ProgramData\\Anaconda3\\lib\\site-packages\\bs4\\__init__.py:273: UserWarning: \"b'.'\" looks like a filename, not markup. You should probably open this file and pass the filehandle into Beautiful Soup.\n",
      "  ' Beautiful Soup.' % markup)\n",
      "C:\\ProgramData\\Anaconda3\\lib\\site-packages\\bs4\\__init__.py:273: UserWarning: \"b'.'\" looks like a filename, not markup. You should probably open this file and pass the filehandle into Beautiful Soup.\n",
      "  ' Beautiful Soup.' % markup)\n",
      "C:\\ProgramData\\Anaconda3\\lib\\site-packages\\bs4\\__init__.py:273: UserWarning: \"b'.'\" looks like a filename, not markup. You should probably open this file and pass the filehandle into Beautiful Soup.\n",
      "  ' Beautiful Soup.' % markup)\n",
      "C:\\ProgramData\\Anaconda3\\lib\\site-packages\\bs4\\__init__.py:273: UserWarning: \"b'.'\" looks like a filename, not markup. You should probably open this file and pass the filehandle into Beautiful Soup.\n",
      "  ' Beautiful Soup.' % markup)\n",
      "C:\\ProgramData\\Anaconda3\\lib\\site-packages\\bs4\\__init__.py:273: UserWarning: \"b'.'\" looks like a filename, not markup. You should probably open this file and pass the filehandle into Beautiful Soup.\n",
      "  ' Beautiful Soup.' % markup)\n",
      "C:\\ProgramData\\Anaconda3\\lib\\site-packages\\bs4\\__init__.py:273: UserWarning: \"b'.'\" looks like a filename, not markup. You should probably open this file and pass the filehandle into Beautiful Soup.\n",
      "  ' Beautiful Soup.' % markup)\n",
      "C:\\ProgramData\\Anaconda3\\lib\\site-packages\\bs4\\__init__.py:273: UserWarning: \"b'.'\" looks like a filename, not markup. You should probably open this file and pass the filehandle into Beautiful Soup.\n",
      "  ' Beautiful Soup.' % markup)\n",
      "C:\\ProgramData\\Anaconda3\\lib\\site-packages\\bs4\\__init__.py:273: UserWarning: \"b'.'\" looks like a filename, not markup. You should probably open this file and pass the filehandle into Beautiful Soup.\n",
      "  ' Beautiful Soup.' % markup)\n",
      "C:\\ProgramData\\Anaconda3\\lib\\site-packages\\bs4\\__init__.py:273: UserWarning: \"b'.'\" looks like a filename, not markup. You should probably open this file and pass the filehandle into Beautiful Soup.\n",
      "  ' Beautiful Soup.' % markup)\n",
      "C:\\ProgramData\\Anaconda3\\lib\\site-packages\\bs4\\__init__.py:273: UserWarning: \"b'.'\" looks like a filename, not markup. You should probably open this file and pass the filehandle into Beautiful Soup.\n",
      "  ' Beautiful Soup.' % markup)\n"
     ]
    }
   ],
   "source": [
    "#&nbsp;\\\\cfrac{4.80\\\\times392\\\\times2.25}{0.16\\\\times1.5\\\\times0.013}&nbsp; &nbsp; &nbsp;\n",
    "from bs4 import BeautifulSoup\n",
    "# Before running any regular expression, try running this\n",
    "dataset_new['Question_data'] = [BeautifulSoup(text).get_text() for text in dataset_new['Question_data'] ]"
   ]
  },
  {
   "cell_type": "code",
   "execution_count": 20,
   "metadata": {},
   "outputs": [
    {
     "data": {
      "text/plain": [
       "count     11658\n",
       "unique    10707\n",
       "top         nan\n",
       "freq        430\n",
       "Name: Question_data, dtype: object"
      ]
     },
     "execution_count": 20,
     "metadata": {},
     "output_type": "execute_result"
    }
   ],
   "source": [
    "dataset_new['Question_data'] = dataset_new['Question_data'].astype('str')\n",
    "dataset_new['Question_data'].describe()"
   ]
  },
  {
   "cell_type": "code",
   "execution_count": 21,
   "metadata": {},
   "outputs": [
    {
     "name": "stderr",
     "output_type": "stream",
     "text": [
      "C:\\ProgramData\\Anaconda3\\lib\\site-packages\\bs4\\__init__.py:273: UserWarning: \"b'.'\" looks like a filename, not markup. You should probably open this file and pass the filehandle into Beautiful Soup.\n",
      "  ' Beautiful Soup.' % markup)\n",
      "C:\\ProgramData\\Anaconda3\\lib\\site-packages\\bs4\\__init__.py:273: UserWarning: \"b'.'\" looks like a filename, not markup. You should probably open this file and pass the filehandle into Beautiful Soup.\n",
      "  ' Beautiful Soup.' % markup)\n",
      "C:\\ProgramData\\Anaconda3\\lib\\site-packages\\bs4\\__init__.py:273: UserWarning: \"b'.'\" looks like a filename, not markup. You should probably open this file and pass the filehandle into Beautiful Soup.\n",
      "  ' Beautiful Soup.' % markup)\n",
      "C:\\ProgramData\\Anaconda3\\lib\\site-packages\\bs4\\__init__.py:273: UserWarning: \"b'.'\" looks like a filename, not markup. You should probably open this file and pass the filehandle into Beautiful Soup.\n",
      "  ' Beautiful Soup.' % markup)\n",
      "C:\\ProgramData\\Anaconda3\\lib\\site-packages\\bs4\\__init__.py:273: UserWarning: \"b'.'\" looks like a filename, not markup. You should probably open this file and pass the filehandle into Beautiful Soup.\n",
      "  ' Beautiful Soup.' % markup)\n",
      "C:\\ProgramData\\Anaconda3\\lib\\site-packages\\bs4\\__init__.py:273: UserWarning: \"b'.'\" looks like a filename, not markup. You should probably open this file and pass the filehandle into Beautiful Soup.\n",
      "  ' Beautiful Soup.' % markup)\n",
      "C:\\ProgramData\\Anaconda3\\lib\\site-packages\\bs4\\__init__.py:273: UserWarning: \"b'.'\" looks like a filename, not markup. You should probably open this file and pass the filehandle into Beautiful Soup.\n",
      "  ' Beautiful Soup.' % markup)\n",
      "C:\\ProgramData\\Anaconda3\\lib\\site-packages\\bs4\\__init__.py:273: UserWarning: \"b'.'\" looks like a filename, not markup. You should probably open this file and pass the filehandle into Beautiful Soup.\n",
      "  ' Beautiful Soup.' % markup)\n",
      "C:\\ProgramData\\Anaconda3\\lib\\site-packages\\bs4\\__init__.py:273: UserWarning: \"b'.'\" looks like a filename, not markup. You should probably open this file and pass the filehandle into Beautiful Soup.\n",
      "  ' Beautiful Soup.' % markup)\n",
      "C:\\ProgramData\\Anaconda3\\lib\\site-packages\\bs4\\__init__.py:273: UserWarning: \"b'.'\" looks like a filename, not markup. You should probably open this file and pass the filehandle into Beautiful Soup.\n",
      "  ' Beautiful Soup.' % markup)\n",
      "C:\\ProgramData\\Anaconda3\\lib\\site-packages\\bs4\\__init__.py:273: UserWarning: \"b'.'\" looks like a filename, not markup. You should probably open this file and pass the filehandle into Beautiful Soup.\n",
      "  ' Beautiful Soup.' % markup)\n",
      "C:\\ProgramData\\Anaconda3\\lib\\site-packages\\bs4\\__init__.py:273: UserWarning: \"b'.'\" looks like a filename, not markup. You should probably open this file and pass the filehandle into Beautiful Soup.\n",
      "  ' Beautiful Soup.' % markup)\n",
      "C:\\ProgramData\\Anaconda3\\lib\\site-packages\\bs4\\__init__.py:273: UserWarning: \"b'.'\" looks like a filename, not markup. You should probably open this file and pass the filehandle into Beautiful Soup.\n",
      "  ' Beautiful Soup.' % markup)\n",
      "C:\\ProgramData\\Anaconda3\\lib\\site-packages\\bs4\\__init__.py:273: UserWarning: \"b'.'\" looks like a filename, not markup. You should probably open this file and pass the filehandle into Beautiful Soup.\n",
      "  ' Beautiful Soup.' % markup)\n",
      "C:\\ProgramData\\Anaconda3\\lib\\site-packages\\bs4\\__init__.py:273: UserWarning: \"b'.'\" looks like a filename, not markup. You should probably open this file and pass the filehandle into Beautiful Soup.\n",
      "  ' Beautiful Soup.' % markup)\n",
      "C:\\ProgramData\\Anaconda3\\lib\\site-packages\\bs4\\__init__.py:273: UserWarning: \"b'.'\" looks like a filename, not markup. You should probably open this file and pass the filehandle into Beautiful Soup.\n",
      "  ' Beautiful Soup.' % markup)\n",
      "C:\\ProgramData\\Anaconda3\\lib\\site-packages\\bs4\\__init__.py:273: UserWarning: \"b'.'\" looks like a filename, not markup. You should probably open this file and pass the filehandle into Beautiful Soup.\n",
      "  ' Beautiful Soup.' % markup)\n",
      "C:\\ProgramData\\Anaconda3\\lib\\site-packages\\bs4\\__init__.py:273: UserWarning: \"b'.'\" looks like a filename, not markup. You should probably open this file and pass the filehandle into Beautiful Soup.\n",
      "  ' Beautiful Soup.' % markup)\n",
      "C:\\ProgramData\\Anaconda3\\lib\\site-packages\\bs4\\__init__.py:273: UserWarning: \"b'.'\" looks like a filename, not markup. You should probably open this file and pass the filehandle into Beautiful Soup.\n",
      "  ' Beautiful Soup.' % markup)\n",
      "C:\\ProgramData\\Anaconda3\\lib\\site-packages\\bs4\\__init__.py:273: UserWarning: \"b'.'\" looks like a filename, not markup. You should probably open this file and pass the filehandle into Beautiful Soup.\n",
      "  ' Beautiful Soup.' % markup)\n",
      "C:\\ProgramData\\Anaconda3\\lib\\site-packages\\bs4\\__init__.py:273: UserWarning: \"b'.'\" looks like a filename, not markup. You should probably open this file and pass the filehandle into Beautiful Soup.\n",
      "  ' Beautiful Soup.' % markup)\n",
      "C:\\ProgramData\\Anaconda3\\lib\\site-packages\\bs4\\__init__.py:273: UserWarning: \"b'.'\" looks like a filename, not markup. You should probably open this file and pass the filehandle into Beautiful Soup.\n",
      "  ' Beautiful Soup.' % markup)\n"
     ]
    }
   ],
   "source": [
    "# Before running any regular expression, try running this\n",
    "dataset_new['Question_data'] = [BeautifulSoup(text).get_text() for text in dataset_new['Question_data'] ]"
   ]
  },
  {
   "cell_type": "code",
   "execution_count": 22,
   "metadata": {},
   "outputs": [],
   "source": [
    "#The + ve square root of (x2 + 2x - 1) + \\\\cfrac{1}{(x^2+2x+1)}Â is:Â Â  :[{text:(x + 1) +Â \\\\cfrac{1}{(x + 1)}}  {text:(x + 1) -Â \\\\cfrac{1}{(x + 1)}}  {text:(x + 2) -\n",
    "dataset_new['Question_data'].replace(regex=True, to_replace=r'\\\\cfrac{',inplace=True,value=r'')\n",
    "#dataset_new['Question_data'].replace(regex=True, to_replace=r':[',inplace=True,value=r'')\n",
    "dataset_new['Question_data'].replace(regex=True, to_replace=r'{text:',inplace=True,value=r'')\n",
    "dataset_new['Question_data'].replace(regex=True, to_replace=r':\\[',inplace=True,value=r'')\n",
    "dataset_new['Question_data'].replace(regex=True, to_replace=r'\\n',inplace=True,value=r'')\n",
    "dataset_new['Question_data'].replace(regex=True, to_replace=r'}{',inplace=True,value=r'')\n",
    "dataset_new['Question_data'].replace(regex=True, to_replace=r'}',inplace=True,value=r'')\n",
    "dataset_new['Question_data'].replace(regex=True, to_replace=r'{',inplace=True,value=r'')\n",
    "dataset_new['Question_data'].replace(regex=True, to_replace=r'\\\\',inplace=True,value=r'')\n",
    "# If x â€“ 1x = 6   find the value of x3 â€“ 1x^3:  198Â   234\n",
    "dataset_new['Question_data'].replace(regex=True, to_replace=r'â€“',inplace=True,value=r'')\n",
    "dataset_new['Question_data'].replace(regex=True, to_replace=r'Â',inplace=True,value=r'')\n",
    "\n",
    "#\\\\times"
   ]
  },
  {
   "cell_type": "code",
   "execution_count": 23,
   "metadata": {},
   "outputs": [],
   "source": [
    "dataset_new['Question_data'] = dataset_new['Question_data'].astype('str')\n"
   ]
  },
  {
   "cell_type": "code",
   "execution_count": 24,
   "metadata": {},
   "outputs": [],
   "source": [
    "# Convert all string columns into lowercase \n",
    "dataset_new = dataset_new.applymap(lambda s:s.lower() if type(s) == str else s)"
   ]
  },
  {
   "cell_type": "code",
   "execution_count": 25,
   "metadata": {},
   "outputs": [],
   "source": [
    "dataset_new['Question_data'].replace(regex=True, to_replace=r'ifn',inplace=True,value=r'if ')"
   ]
  },
  {
   "cell_type": "code",
   "execution_count": 26,
   "metadata": {},
   "outputs": [],
   "source": [
    "# nwhat\n",
    "# thensquare\n",
    "# findnthe\n",
    "# termsnthe\n",
    "# threennumbers\n",
    "# nfind\n",
    "# fournnumbers\n",
    "# thenminimum\n",
    "# thenfirst\n",
    "# quantitativeaptitude\n",
    "# thenminimum\n",
    "# tontwice\n",
    "# thengeometric\n",
    "\n",
    "dataset_new['Question_data'].replace(regex=True, to_replace=r'then[a-z]+',inplace=True,value=r'the ')\n",
    "dataset_new['Question_data'].replace(regex=True, to_replace=r'nwhat',inplace=True,value=r' what')\n",
    "dataset_new['Question_data'].replace(regex=True, to_replace=r'thensquare',inplace=True,value=r'the square ')\n",
    "dataset_new['Question_data'].replace(regex=True, to_replace=r'findnthe',inplace=True,value=r'find the')\n",
    "dataset_new['Question_data'].replace(regex=True, to_replace=r'termsnthe',inplace=True,value=r'terms the')\n",
    "\n",
    "dataset_new['Question_data'].replace(regex=True, to_replace=r'threennumbers',inplace=True,value=r'three numbers')\n",
    "dataset_new['Question_data'].replace(regex=True, to_replace=r'nfind',inplace=True,value=r' find')\n",
    "dataset_new['Question_data'].replace(regex=True, to_replace=r'fournnumbers',inplace=True,value=r'four numbers')\n",
    "dataset_new['Question_data'].replace(regex=True, to_replace=r'thenminimum',inplace=True,value=r'the minimum')\n",
    "dataset_new['Question_data'].replace(regex=True, to_replace=r'thenfirst',inplace=True,value=r'the first')\n",
    "\n",
    "dataset_new['Question_data'].replace(regex=True, to_replace=r'quantitativeaptitude',inplace=True,value=r'quantitative aptitude')\n",
    "dataset_new['Question_data'].replace(regex=True, to_replace=r'thenminimum',inplace=True,value=r'the minimum')\n",
    "dataset_new['Question_data'].replace(regex=True, to_replace=r'tontwice',inplace=True,value=r'to twice')\n",
    "dataset_new['Question_data'].replace(regex=True, to_replace=r'thengeometric',inplace=True,value=r'the geometric')\n",
    "dataset_new['Question_data'].replace(regex=True, to_replace=r'nnone',inplace=True,value=r'none')\n",
    "dataset_new['Question_data'].replace(regex=True, to_replace=r'innplace',inplace=True,value=r'in place')\n",
    "dataset_new['Question_data'].replace(regex=True, to_replace=r'nonenof',inplace=True,value=r'none of')\n",
    "dataset_new['Question_data'].replace(regex=True, to_replace=r'antime',inplace=True,value=r'a time')\n",
    "dataset_new['Question_data'].replace(regex=True, to_replace=r'isnequal',inplace=True,value=r'is equal')\n",
    "dataset_new['Question_data'].replace(regex=True, to_replace=r'valueof',inplace=True,value=r'value of')\n",
    "# father’snmonthly\n",
    "\n",
    "dataset_new['Question_data'].replace(regex=True, to_replace=r'father’snmonthly',inplace=True,value=r'father’s monthly')\n",
    "\n",
    "dataset_new['Question_data'].replace(regex=True, to_replace=r'monthlynsalary',inplace=True,value=r'monthly salary')\n",
    "dataset_new['Question_data'].replace(regex=True, to_replace=r'ofleft',inplace=True,value=r'of left')\n",
    "dataset_new['Question_data'].replace(regex=True, to_replace=r'simplifiednfrom',inplace=True,value=r'simplified from')\n",
    "dataset_new['Question_data'].replace(regex=True, to_replace=r'ofnthe',inplace=True,value=r'of the')\n",
    "# father’snmonthly\n",
    "# allnreal\n",
    "dataset_new['Question_data'].replace(regex=True, to_replace=r'allnreal',inplace=True,value=r'all real')\n",
    "dataset_new['Question_data'].replace(regex=True, to_replace=r'whichnof',inplace=True,value=r'which of')\n",
    "dataset_new['Question_data'].replace(regex=True, to_replace=r'quantityna',inplace=True,value=r'quantity')\n",
    "dataset_new['Question_data'].replace(regex=True, to_replace=r'isngreater',inplace=True,value=r'is greater')\n",
    "\n",
    "dataset_new['Question_data'].replace(regex=True, to_replace=r'bendetermined',inplace=True,value=r'be determined')\n",
    "dataset_new['Question_data'].replace(regex=True, to_replace=r'thatnsatisfy',inplace=True,value=r'that satisfy')\n",
    "dataset_new['Question_data'].replace(regex=True, to_replace=r'bentwo',inplace=True,value=r'be two')\n",
    "dataset_new['Question_data'].replace(regex=True, to_replace=r'ofnf',inplace=True,value=r'of f')\n",
    "\n",
    "# xnsatisfying\n",
    "dataset_new['Question_data'].replace(regex=True, to_replace=r'xnsatisfying',inplace=True,value=r'x satisfying')\n",
    "dataset_new['Question_data'].replace(regex=True, to_replace=r'thatnsatisfy',inplace=True,value=r'that satisfy')\n",
    "dataset_new['Question_data'].replace(regex=True, to_replace=r'bentwo',inplace=True,value=r'be two')\n",
    "dataset_new['Question_data'].replace(regex=True, to_replace=r'ofnf',inplace=True,value=r'of f')\n",
    "\n"
   ]
  },
  {
   "cell_type": "code",
   "execution_count": 27,
   "metadata": {},
   "outputs": [],
   "source": [
    "#dataset_new['Question_data'].replace(regex=True, to_replace=r' the the',inplace=True,value=r' the')\n",
    "dataset_new['Question_data'].replace(regex=True, to_replace=r'\\s+the\\s+the\\s+',inplace=True,value=r' the ')\n",
    "dataset_new['Question_data'].replace(regex=True, to_replace=r'\\s+of\\s+of\\s+',inplace=True,value=r' of ')\n",
    "#dataset_new['Question_data'].replace(regex=True, to_replace=r'\\w+.\\w+',inplace=True,value=r'\\w+ . \\w+')"
   ]
  },
  {
   "cell_type": "code",
   "execution_count": 28,
   "metadata": {},
   "outputs": [
    {
     "data": {
      "text/plain": [
       "url              302\n",
       "bucketId         305\n",
       "QuestionId       398\n",
       "Question_data      0\n",
       "dtype: int64"
      ]
     },
     "execution_count": 28,
     "metadata": {},
     "output_type": "execute_result"
    }
   ],
   "source": [
    "dataset_new.isnull().sum()"
   ]
  },
  {
   "cell_type": "code",
   "execution_count": 29,
   "metadata": {},
   "outputs": [
    {
     "data": {
      "text/plain": [
       "url              0\n",
       "bucketId         0\n",
       "QuestionId       0\n",
       "Question_data    0\n",
       "dtype: int64"
      ]
     },
     "execution_count": 29,
     "metadata": {},
     "output_type": "execute_result"
    }
   ],
   "source": [
    "# Removing rows with null values\n",
    "dataset_new2 = dataset_new[dataset_new.isnull().sum(axis=1) < 1]\n",
    "#print(len(dataset_new[dataset_new.isnull().sum(axis=1) < 1].index))\n",
    "#print(100*(len(dataset_new[dataset_new.isnull().sum(axis=1) > 3].index) / len(dataset_new.index)))\n",
    "dataset_new2.isnull().sum()\n",
    "#dataset_new2.head(10)"
   ]
  },
  {
   "cell_type": "code",
   "execution_count": 30,
   "metadata": {},
   "outputs": [
    {
     "data": {
      "text/html": [
       "<div>\n",
       "<style scoped>\n",
       "    .dataframe tbody tr th:only-of-type {\n",
       "        vertical-align: middle;\n",
       "    }\n",
       "\n",
       "    .dataframe tbody tr th {\n",
       "        vertical-align: top;\n",
       "    }\n",
       "\n",
       "    .dataframe thead th {\n",
       "        text-align: right;\n",
       "    }\n",
       "</style>\n",
       "<table border=\"1\" class=\"dataframe\">\n",
       "  <thead>\n",
       "    <tr style=\"text-align: right;\">\n",
       "      <th></th>\n",
       "      <th>0</th>\n",
       "      <th>1</th>\n",
       "      <th>2</th>\n",
       "      <th>3</th>\n",
       "      <th>4</th>\n",
       "      <th>5</th>\n",
       "      <th>6</th>\n",
       "      <th>7</th>\n",
       "    </tr>\n",
       "  </thead>\n",
       "  <tbody>\n",
       "    <tr>\n",
       "      <th>0</th>\n",
       "      <td></td>\n",
       "      <td>quantitativeaptitude</td>\n",
       "      <td>algebra_bucket</td>\n",
       "      <td>algebaric_simplification</td>\n",
       "      <td>level_01</td>\n",
       "      <td></td>\n",
       "      <td>None</td>\n",
       "      <td>None</td>\n",
       "    </tr>\n",
       "    <tr>\n",
       "      <th>1</th>\n",
       "      <td></td>\n",
       "      <td>quantitativeaptitude</td>\n",
       "      <td>algebra_bucket</td>\n",
       "      <td>algebaric_simplification</td>\n",
       "      <td>level_01</td>\n",
       "      <td></td>\n",
       "      <td>None</td>\n",
       "      <td>None</td>\n",
       "    </tr>\n",
       "    <tr>\n",
       "      <th>2</th>\n",
       "      <td></td>\n",
       "      <td>quantitativeaptitude</td>\n",
       "      <td>algebra_bucket</td>\n",
       "      <td>algebaric_simplification</td>\n",
       "      <td>level_01</td>\n",
       "      <td></td>\n",
       "      <td>None</td>\n",
       "      <td>None</td>\n",
       "    </tr>\n",
       "    <tr>\n",
       "      <th>3</th>\n",
       "      <td></td>\n",
       "      <td>quantitativeaptitude</td>\n",
       "      <td>algebra_bucket</td>\n",
       "      <td>algebaric_simplification</td>\n",
       "      <td>level_01</td>\n",
       "      <td></td>\n",
       "      <td>None</td>\n",
       "      <td>None</td>\n",
       "    </tr>\n",
       "    <tr>\n",
       "      <th>4</th>\n",
       "      <td></td>\n",
       "      <td>quantitativeaptitude</td>\n",
       "      <td>algebra_bucket</td>\n",
       "      <td>algebaric_simplification</td>\n",
       "      <td>level_01</td>\n",
       "      <td></td>\n",
       "      <td>None</td>\n",
       "      <td>None</td>\n",
       "    </tr>\n",
       "  </tbody>\n",
       "</table>\n",
       "</div>"
      ],
      "text/plain": [
       "  0                     1               2                         3         4  \\\n",
       "0    quantitativeaptitude  algebra_bucket  algebaric_simplification  level_01   \n",
       "1    quantitativeaptitude  algebra_bucket  algebaric_simplification  level_01   \n",
       "2    quantitativeaptitude  algebra_bucket  algebaric_simplification  level_01   \n",
       "3    quantitativeaptitude  algebra_bucket  algebaric_simplification  level_01   \n",
       "4    quantitativeaptitude  algebra_bucket  algebaric_simplification  level_01   \n",
       "\n",
       "  5     6     7  \n",
       "0    None  None  \n",
       "1    None  None  \n",
       "2    None  None  \n",
       "3    None  None  \n",
       "4    None  None  "
      ]
     },
     "execution_count": 30,
     "metadata": {},
     "output_type": "execute_result"
    }
   ],
   "source": [
    "# /quantitativeaptitude/algebra_bucket/algebaric.\n",
    "#print(dataset_new2['url'].str.split('/', expand=True))\n",
    "#dataset_new2[['empty', 'Category', 'subcategory', 'question_type', 'level', 'nothing1', 'nothing2']] = dataset_new2['url'].str.split('/', expand=True)\n",
    "\n",
    "#pat = '(?P<want1>.*) - (?P<want2>.*) - (?P<want3>.*)'\n",
    "#df.join(df.variable.str.extract(pat, expand=True))\n",
    "#dataset_new2.drop(['want1', 'want2', 'want3', 'want4'], axis = 1)\n",
    "#pat = '(?P<want1>.*) - (?P<want2>.*) - (?P<want3>.*)'\n",
    "#/quantitativeaptitude/algebra_bucket/functions/level_01/\n",
    "#pat = '\\/(?P<want1>)\\/(?P<want2>)\\/(?P<want3>)\\/(?P<want4>)\\/'\n",
    "#dataset_new2.join(dataset_new2.url.str.extract(pat, expand=True))\n",
    "\n",
    "#dataset_new2[['nothing1', 'want1', 'want2', 'want3', 'want4', 'nothing2']] = \n",
    "new = dataset_new2['url'].str.split('/', expand=True)\n",
    "new.head()\n",
    "#dataset_new2.head()\n",
    "#s1 = '/quantitativeaptitude/algebra_bucket/functions/level_01/'\n",
    "#A['a1', 'a2', 'a3', 'a4', 'a5', 'a6'] = Series('')\n",
    "#chk = np.array(s1.split('/'))\n",
    "#df = DataFrame('1': one)\n",
    "#A['a1', 'a2', 'a3', 'a4', 'a5', 'a6'] = pd.DataFrame(s1.split('/'))\n",
    "#chk\n"
   ]
  },
  {
   "cell_type": "code",
   "execution_count": 31,
   "metadata": {},
   "outputs": [],
   "source": [
    "dataset_new2['Category'] = new[1]\n",
    "dataset_new2['Subcategory'] = new[2]\n",
    "dataset_new2['subtype'] = new[3]\n",
    "dataset_new2['level'] = new[4]\n",
    "#dataset_new2[['Category', 'Subcategory', 'subtype', 'level']] = new[1, 2.]"
   ]
  },
  {
   "cell_type": "code",
   "execution_count": 32,
   "metadata": {},
   "outputs": [
    {
     "data": {
      "text/html": [
       "<div>\n",
       "<style scoped>\n",
       "    .dataframe tbody tr th:only-of-type {\n",
       "        vertical-align: middle;\n",
       "    }\n",
       "\n",
       "    .dataframe tbody tr th {\n",
       "        vertical-align: top;\n",
       "    }\n",
       "\n",
       "    .dataframe thead th {\n",
       "        text-align: right;\n",
       "    }\n",
       "</style>\n",
       "<table border=\"1\" class=\"dataframe\">\n",
       "  <thead>\n",
       "    <tr style=\"text-align: right;\">\n",
       "      <th></th>\n",
       "      <th>bucketId</th>\n",
       "      <th>QuestionId</th>\n",
       "      <th>Question_data</th>\n",
       "      <th>Category</th>\n",
       "      <th>Subcategory</th>\n",
       "      <th>subtype</th>\n",
       "      <th>level</th>\n",
       "    </tr>\n",
       "  </thead>\n",
       "  <tbody>\n",
       "    <tr>\n",
       "      <th>0</th>\n",
       "      <td>1930</td>\n",
       "      <td>12444</td>\n",
       "      <td>find the value of 43 + 49+34-23-89 - 16? 24.63...</td>\n",
       "      <td>quantitativeaptitude</td>\n",
       "      <td>algebra_bucket</td>\n",
       "      <td>algebaric_simplification</td>\n",
       "      <td>level_01</td>\n",
       "    </tr>\n",
       "    <tr>\n",
       "      <th>1</th>\n",
       "      <td>1930</td>\n",
       "      <td>109000</td>\n",
       "      <td>if x + y = 7   then what will be the value of ...</td>\n",
       "      <td>quantitativeaptitude</td>\n",
       "      <td>algebra_bucket</td>\n",
       "      <td>algebaric_simplification</td>\n",
       "      <td>level_01</td>\n",
       "    </tr>\n",
       "    <tr>\n",
       "      <th>2</th>\n",
       "      <td>1930</td>\n",
       "      <td>143204</td>\n",
       "      <td>if (xn+ y – z)2 + (y + z- x)2 + (z+ x- y)2 = 0...</td>\n",
       "      <td>quantitativeaptitude</td>\n",
       "      <td>algebra_bucket</td>\n",
       "      <td>algebaric_simplification</td>\n",
       "      <td>level_01</td>\n",
       "    </tr>\n",
       "    <tr>\n",
       "      <th>3</th>\n",
       "      <td>1930</td>\n",
       "      <td>110308</td>\n",
       "      <td>the value of expression:(x^2-y^2)^3+ (y^2-y^2)...</td>\n",
       "      <td>quantitativeaptitude</td>\n",
       "      <td>algebra_bucket</td>\n",
       "      <td>algebaric_simplification</td>\n",
       "      <td>level_01</td>\n",
       "    </tr>\n",
       "    <tr>\n",
       "      <th>4</th>\n",
       "      <td>1930</td>\n",
       "      <td>142958</td>\n",
       "      <td>if 4x= 18 y   then the value of (xy - 1) is:  ...</td>\n",
       "      <td>quantitativeaptitude</td>\n",
       "      <td>algebra_bucket</td>\n",
       "      <td>algebaric_simplification</td>\n",
       "      <td>level_01</td>\n",
       "    </tr>\n",
       "  </tbody>\n",
       "</table>\n",
       "</div>"
      ],
      "text/plain": [
       "  bucketId QuestionId                                      Question_data  \\\n",
       "0     1930      12444  find the value of 43 + 49+34-23-89 - 16? 24.63...   \n",
       "1     1930     109000  if x + y = 7   then what will be the value of ...   \n",
       "2     1930     143204  if (xn+ y – z)2 + (y + z- x)2 + (z+ x- y)2 = 0...   \n",
       "3     1930     110308  the value of expression:(x^2-y^2)^3+ (y^2-y^2)...   \n",
       "4     1930     142958  if 4x= 18 y   then the value of (xy - 1) is:  ...   \n",
       "\n",
       "               Category     Subcategory                   subtype     level  \n",
       "0  quantitativeaptitude  algebra_bucket  algebaric_simplification  level_01  \n",
       "1  quantitativeaptitude  algebra_bucket  algebaric_simplification  level_01  \n",
       "2  quantitativeaptitude  algebra_bucket  algebaric_simplification  level_01  \n",
       "3  quantitativeaptitude  algebra_bucket  algebaric_simplification  level_01  \n",
       "4  quantitativeaptitude  algebra_bucket  algebaric_simplification  level_01  "
      ]
     },
     "execution_count": 32,
     "metadata": {},
     "output_type": "execute_result"
    }
   ],
   "source": [
    "#dataset_new2 = dataset_new2.drop(['want1', 'want2', 'want3', 'want4'], axis = 1)\n",
    "dataset_new2 = dataset_new2.drop('url', axis = 1)\n",
    "dataset_new2.head()\n",
    "#dataset = dataset.drop(['QuestionData', 'SolutionData', 'Unnamed: 7', 'Unnamed: 8', 'Unnamed: 9', 'Unnamed: 10'], axis = 1) "
   ]
  },
  {
   "cell_type": "code",
   "execution_count": 76,
   "metadata": {},
   "outputs": [],
   "source": [
    "df_category = dataset_new2.drop(['Subcategory', 'subtype', 'level', 'QuestionId', 'bucketId'], axis = 1)"
   ]
  },
  {
   "cell_type": "code",
   "execution_count": 77,
   "metadata": {},
   "outputs": [
    {
     "data": {
      "text/html": [
       "<div>\n",
       "<style scoped>\n",
       "    .dataframe tbody tr th:only-of-type {\n",
       "        vertical-align: middle;\n",
       "    }\n",
       "\n",
       "    .dataframe tbody tr th {\n",
       "        vertical-align: top;\n",
       "    }\n",
       "\n",
       "    .dataframe thead th {\n",
       "        text-align: right;\n",
       "    }\n",
       "</style>\n",
       "<table border=\"1\" class=\"dataframe\">\n",
       "  <thead>\n",
       "    <tr style=\"text-align: right;\">\n",
       "      <th></th>\n",
       "      <th>Question_data</th>\n",
       "      <th>Category</th>\n",
       "    </tr>\n",
       "  </thead>\n",
       "  <tbody>\n",
       "    <tr>\n",
       "      <th>0</th>\n",
       "      <td>find the value of 43 + 49+34-23-89 - 16? 24.63...</td>\n",
       "      <td>quantitativeaptitude</td>\n",
       "    </tr>\n",
       "    <tr>\n",
       "      <th>1</th>\n",
       "      <td>if x + y = 7   then what will be the value of ...</td>\n",
       "      <td>quantitativeaptitude</td>\n",
       "    </tr>\n",
       "    <tr>\n",
       "      <th>2</th>\n",
       "      <td>if (xn+ y – z)2 + (y + z- x)2 + (z+ x- y)2 = 0...</td>\n",
       "      <td>quantitativeaptitude</td>\n",
       "    </tr>\n",
       "    <tr>\n",
       "      <th>3</th>\n",
       "      <td>the value of expression:(x^2-y^2)^3+ (y^2-y^2)...</td>\n",
       "      <td>quantitativeaptitude</td>\n",
       "    </tr>\n",
       "    <tr>\n",
       "      <th>4</th>\n",
       "      <td>if 4x= 18 y   then the value of (xy - 1) is:  ...</td>\n",
       "      <td>quantitativeaptitude</td>\n",
       "    </tr>\n",
       "  </tbody>\n",
       "</table>\n",
       "</div>"
      ],
      "text/plain": [
       "                                       Question_data              Category\n",
       "0  find the value of 43 + 49+34-23-89 - 16? 24.63...  quantitativeaptitude\n",
       "1  if x + y = 7   then what will be the value of ...  quantitativeaptitude\n",
       "2  if (xn+ y – z)2 + (y + z- x)2 + (z+ x- y)2 = 0...  quantitativeaptitude\n",
       "3  the value of expression:(x^2-y^2)^3+ (y^2-y^2)...  quantitativeaptitude\n",
       "4  if 4x= 18 y   then the value of (xy - 1) is:  ...  quantitativeaptitude"
      ]
     },
     "execution_count": 77,
     "metadata": {},
     "output_type": "execute_result"
    }
   ],
   "source": [
    "df_category.head()"
   ]
  },
  {
   "cell_type": "code",
   "execution_count": 93,
   "metadata": {},
   "outputs": [
    {
     "data": {
      "text/plain": [
       "Question_data    0\n",
       "Category         0\n",
       "dtype: int64"
      ]
     },
     "execution_count": 93,
     "metadata": {},
     "output_type": "execute_result"
    }
   ],
   "source": [
    "df_category = df_category[df_category.isnull().sum(axis=1) < 1]\n",
    "#print(len(dataset_new[dataset_new.isnull().sum(axis=1) < 1].index))\n",
    "#print(100*(len(dataset_new[dataset_new.isnull().sum(axis=1) > 3].index) / len(dataset_new.index)))\n",
    "df_category.isnull().sum()\n",
    "\n",
    "#df_category.drop('Category_numbered', axis = 1)\n",
    "\n",
    "#df_category['Category'] = df_category['Category'].astype('str')\n",
    "#word_tokenizer = Tokenizer()                      # instantiate tokeniser\n",
    "#word_tokenizer.fit_on_texts(df_category['Category'])                    # fit tokeniser on data\n",
    "#df_category['Category_numbered'] = word_tokenizer.texts_to_sequences(df_category['Category'])  # use the tokeniser to encode input sequence"
   ]
  },
  {
   "cell_type": "code",
   "execution_count": 94,
   "metadata": {},
   "outputs": [
    {
     "data": {
      "text/html": [
       "<div>\n",
       "<style scoped>\n",
       "    .dataframe tbody tr th:only-of-type {\n",
       "        vertical-align: middle;\n",
       "    }\n",
       "\n",
       "    .dataframe tbody tr th {\n",
       "        vertical-align: top;\n",
       "    }\n",
       "\n",
       "    .dataframe thead th {\n",
       "        text-align: right;\n",
       "    }\n",
       "</style>\n",
       "<table border=\"1\" class=\"dataframe\">\n",
       "  <thead>\n",
       "    <tr style=\"text-align: right;\">\n",
       "      <th></th>\n",
       "      <th>Question_data</th>\n",
       "      <th>Category</th>\n",
       "    </tr>\n",
       "  </thead>\n",
       "  <tbody>\n",
       "    <tr>\n",
       "      <th>0</th>\n",
       "      <td>find the value of 43 + 49+34-23-89 - 16? 24.63...</td>\n",
       "      <td>quantitativeaptitude</td>\n",
       "    </tr>\n",
       "    <tr>\n",
       "      <th>1</th>\n",
       "      <td>if x + y = 7   then what will be the value of ...</td>\n",
       "      <td>quantitativeaptitude</td>\n",
       "    </tr>\n",
       "    <tr>\n",
       "      <th>2</th>\n",
       "      <td>if (xn+ y – z)2 + (y + z- x)2 + (z+ x- y)2 = 0...</td>\n",
       "      <td>quantitativeaptitude</td>\n",
       "    </tr>\n",
       "    <tr>\n",
       "      <th>3</th>\n",
       "      <td>the value of expression:(x^2-y^2)^3+ (y^2-y^2)...</td>\n",
       "      <td>quantitativeaptitude</td>\n",
       "    </tr>\n",
       "    <tr>\n",
       "      <th>4</th>\n",
       "      <td>if 4x= 18 y   then the value of (xy - 1) is:  ...</td>\n",
       "      <td>quantitativeaptitude</td>\n",
       "    </tr>\n",
       "  </tbody>\n",
       "</table>\n",
       "</div>"
      ],
      "text/plain": [
       "                                       Question_data              Category\n",
       "0  find the value of 43 + 49+34-23-89 - 16? 24.63...  quantitativeaptitude\n",
       "1  if x + y = 7   then what will be the value of ...  quantitativeaptitude\n",
       "2  if (xn+ y – z)2 + (y + z- x)2 + (z+ x- y)2 = 0...  quantitativeaptitude\n",
       "3  the value of expression:(x^2-y^2)^3+ (y^2-y^2)...  quantitativeaptitude\n",
       "4  if 4x= 18 y   then the value of (xy - 1) is:  ...  quantitativeaptitude"
      ]
     },
     "execution_count": 94,
     "metadata": {},
     "output_type": "execute_result"
    }
   ],
   "source": [
    "df_category.head()"
   ]
  },
  {
   "cell_type": "code",
   "execution_count": 95,
   "metadata": {},
   "outputs": [
    {
     "data": {
      "text/plain": [
       "array(['quantitativeaptitude', 'b><\\\\', 'logicalreasoning', 'b><',\n",
       "       'b><br><',\n",
       "       'p><p><span><span><span>\\\\n<img src=\\\\\"data:image;base64',\n",
       "       'span><'], dtype=object)"
      ]
     },
     "execution_count": 95,
     "metadata": {},
     "output_type": "execute_result"
    }
   ],
   "source": [
    "#df_category.Category_numbered.unique\n",
    "df_category.Category.dropna()\n",
    "df_category.Category.unique()"
   ]
  },
  {
   "cell_type": "code",
   "execution_count": 81,
   "metadata": {},
   "outputs": [],
   "source": [
    "#df_category['Category_numbered'].value_counts()"
   ]
  },
  {
   "cell_type": "code",
   "execution_count": 96,
   "metadata": {},
   "outputs": [
    {
     "data": {
      "text/plain": [
       "quantitativeaptitude                                     5656\n",
       "logicalreasoning                                         5592\n",
       "b><                                                         5\n",
       "span><                                                      2\n",
       "p><p><span><span><span>\\n<img src=\\\"data:image;base64       1\n",
       "b><br><                                                     1\n",
       "b><\\                                                        1\n",
       "Name: Category, dtype: int64"
      ]
     },
     "execution_count": 96,
     "metadata": {},
     "output_type": "execute_result"
    }
   ],
   "source": [
    "df_category['Category'].value_counts()"
   ]
  },
  {
   "cell_type": "code",
   "execution_count": 97,
   "metadata": {},
   "outputs": [],
   "source": [
    "# df_filtered = df[df['Age'] >= 25]\n",
    "# df.drop(df[df['Age'] < 25].index, inplace = True)\n",
    "#df_category.drop(df_category[df_category['Category_numbered'] != 'quantitativeaptitude'], axis = 0))\n",
    "#df_category_2 = df_category[df_category['Category'] == 'quantitativeaptitude']     #, axis = 0))\n",
    "#df_category_2 = df_category[df_category['Category'] == 'logicalreasoning']     #, axis = 0))\n",
    "\n",
    "# delete all rows with column 'Age' has value 30 to 40 \n",
    "#indexNames = dfObj[ (dfObj['Age'] >= 30) & (dfObj['Age'] <= 40) ].index\n",
    "#dfObj.drop(indexNames , inplace=True)\n",
    "\n",
    "# delete all rows with column 'Age' has value 30 to 40 \n",
    "#indexNames = df_category[ (df_category['Category'] != 'quantitativeaptitude') | (df_category['Category'] != 'logicalreasoning') ].index\n",
    "#indexNames\n",
    "#df_category.drop(indexNames , inplace=True)\n",
    "# df = df[~df['your column'].isin(['list of strings'])]\n",
    "l = ['quantitativeaptitude', 'logicalreasoning']\n",
    "#searchfor = ['john', 'doe']\n",
    "#df = df[~df.col.str.contains('|'.join(searchfor))]\n",
    "#df_category = df_category[df_category['Category'].isin[l])] #.str.contains(\"XYZ\")]\n",
    "df_category = df_category[df_category.Category.str.contains('|'.join(l))]"
   ]
  },
  {
   "cell_type": "code",
   "execution_count": 98,
   "metadata": {},
   "outputs": [
    {
     "data": {
      "text/plain": [
       "quantitativeaptitude    5656\n",
       "logicalreasoning        5592\n",
       "Name: Category, dtype: int64"
      ]
     },
     "execution_count": 98,
     "metadata": {},
     "output_type": "execute_result"
    }
   ],
   "source": [
    "df_category['Category'].value_counts()"
   ]
  },
  {
   "cell_type": "code",
   "execution_count": 107,
   "metadata": {},
   "outputs": [
    {
     "data": {
      "text/plain": [
       "1    5656\n",
       "0    5592\n",
       "Name: Category, dtype: int64"
      ]
     },
     "execution_count": 107,
     "metadata": {},
     "output_type": "execute_result"
    }
   ],
   "source": [
    "# quantitativeaptitude  = 1\n",
    "# logicalreasoning      = 0\n",
    "# lambda s:s.lower() if type(s) == str else s\n",
    "#df_category = df_category.drop('num_category', axis = 1)\n",
    "mapping = {'quantitativeaptitude': 1, 'logicalreasoning': 0}\n",
    "df_category = df_category.replace({'Category': mapping})\n",
    "df_category['Category'].value_counts()\n",
    "#df_category['num_category'] = lambda x: 1 if df_category.Category.str.contains('quantitativeaptitude') else 0"
   ]
  },
  {
   "cell_type": "code",
   "execution_count": 108,
   "metadata": {},
   "outputs": [
    {
     "data": {
      "text/html": [
       "<div>\n",
       "<style scoped>\n",
       "    .dataframe tbody tr th:only-of-type {\n",
       "        vertical-align: middle;\n",
       "    }\n",
       "\n",
       "    .dataframe tbody tr th {\n",
       "        vertical-align: top;\n",
       "    }\n",
       "\n",
       "    .dataframe thead th {\n",
       "        text-align: right;\n",
       "    }\n",
       "</style>\n",
       "<table border=\"1\" class=\"dataframe\">\n",
       "  <thead>\n",
       "    <tr style=\"text-align: right;\">\n",
       "      <th></th>\n",
       "      <th>Question_data</th>\n",
       "      <th>Category</th>\n",
       "    </tr>\n",
       "  </thead>\n",
       "  <tbody>\n",
       "    <tr>\n",
       "      <th>0</th>\n",
       "      <td>find the value of 43 + 49+34-23-89 - 16? 24.63...</td>\n",
       "      <td>1</td>\n",
       "    </tr>\n",
       "    <tr>\n",
       "      <th>1</th>\n",
       "      <td>if x + y = 7   then what will be the value of ...</td>\n",
       "      <td>1</td>\n",
       "    </tr>\n",
       "    <tr>\n",
       "      <th>2</th>\n",
       "      <td>if (xn+ y – z)2 + (y + z- x)2 + (z+ x- y)2 = 0...</td>\n",
       "      <td>1</td>\n",
       "    </tr>\n",
       "    <tr>\n",
       "      <th>3</th>\n",
       "      <td>the value of expression:(x^2-y^2)^3+ (y^2-y^2)...</td>\n",
       "      <td>1</td>\n",
       "    </tr>\n",
       "    <tr>\n",
       "      <th>4</th>\n",
       "      <td>if 4x= 18 y   then the value of (xy - 1) is:  ...</td>\n",
       "      <td>1</td>\n",
       "    </tr>\n",
       "  </tbody>\n",
       "</table>\n",
       "</div>"
      ],
      "text/plain": [
       "                                       Question_data  Category\n",
       "0  find the value of 43 + 49+34-23-89 - 16? 24.63...         1\n",
       "1  if x + y = 7   then what will be the value of ...         1\n",
       "2  if (xn+ y – z)2 + (y + z- x)2 + (z+ x- y)2 = 0...         1\n",
       "3  the value of expression:(x^2-y^2)^3+ (y^2-y^2)...         1\n",
       "4  if 4x= 18 y   then the value of (xy - 1) is:  ...         1"
      ]
     },
     "execution_count": 108,
     "metadata": {},
     "output_type": "execute_result"
    }
   ],
   "source": [
    "df_category.head()"
   ]
  },
  {
   "cell_type": "code",
   "execution_count": 109,
   "metadata": {},
   "outputs": [],
   "source": [
    "X = df_category['Question_data']\n",
    "Y = df_category['Category']"
   ]
  },
  {
   "cell_type": "code",
   "execution_count": 110,
   "metadata": {},
   "outputs": [
    {
     "name": "stdout",
     "output_type": "stream",
     "text": [
      "sample X:  find the value of 43 + 49+34-23-89 - 16? 24.638  25.638  26.638  27.638 \n",
      "\n",
      "sample Y:  1 \n",
      "\n"
     ]
    }
   ],
   "source": [
    "print('sample X: ', X[0], '\\n')\n",
    "print('sample Y: ', Y[0], '\\n')"
   ]
  },
  {
   "cell_type": "code",
   "execution_count": 112,
   "metadata": {},
   "outputs": [
    {
     "name": "stdout",
     "output_type": "stream",
     "text": [
      "Length of first input sequence  : 69\n"
     ]
    }
   ],
   "source": [
    "print(\"Length of first input sequence  : {}\".format(len(X[1])))\n",
    "#print(\"Length of first output sequence : {}\".format(len(Y[1])))"
   ]
  },
  {
   "cell_type": "markdown",
   "metadata": {},
   "source": [
    "### Many to one problem\n",
    "### Vectorise X and Y\n",
    "\n",
    "#### Encode X to integer values. For Y One Hot Encoding will be used.\n",
    "\n",
    "We'll use the Tokenizer() function from Keras library to encode text sequence to integer sequence"
   ]
  },
  {
   "cell_type": "code",
   "execution_count": 113,
   "metadata": {},
   "outputs": [],
   "source": [
    "# encode X\n",
    "\n",
    "word_tokenizer = Tokenizer()                      # instantiate tokeniser\n",
    "word_tokenizer.fit_on_texts(X)                    # fit tokeniser on data\n",
    "X_encoded = word_tokenizer.texts_to_sequences(X)  # use the tokeniser to encode input sequence"
   ]
  },
  {
   "cell_type": "code",
   "execution_count": 114,
   "metadata": {},
   "outputs": [
    {
     "name": "stdout",
     "output_type": "stream",
     "text": [
      "** Raw data point ** \n",
      " ---------------------------------------------------------------------------------------------------- \n",
      "\n",
      "X:  find the value of 43 + 49+34-23-89 - 16? 24.638  25.638  26.638  27.638 \n",
      "\n",
      "Y:  1 \n",
      "\n",
      "\n",
      "** Encoded data point ** \n",
      " ---------------------------------------------------------------------------------------------------- \n",
      "\n",
      "X:  [42, 1, 97, 2, 716, 9989, 572, 367, 9990, 146, 185, 3693, 105, 3693, 509, 3693, 312, 3693] \n",
      "\n"
     ]
    }
   ],
   "source": [
    "# look at first encoded data point\n",
    "\n",
    "print(\"** Raw data point **\", \"\\n\", \"-\"*100, \"\\n\")\n",
    "print('X: ', X[0], '\\n')\n",
    "print('Y: ', Y[0], '\\n')\n",
    "print()\n",
    "print(\"** Encoded data point **\", \"\\n\", \"-\"*100, \"\\n\")\n",
    "print('X: ', X_encoded[0], '\\n')\n"
   ]
  },
  {
   "cell_type": "code",
   "execution_count": 115,
   "metadata": {},
   "outputs": [
    {
     "name": "stdout",
     "output_type": "stream",
     "text": [
      "Length of longest sentence: 315\n"
     ]
    }
   ],
   "source": [
    "# check length of longest sentence\n",
    "lengths = [len(seq) for seq in X_encoded]\n",
    "print(\"Length of longest sentence: {}\".format(max(lengths)))\n"
   ]
  },
  {
   "cell_type": "code",
   "execution_count": 116,
   "metadata": {},
   "outputs": [
    {
     "data": {
      "image/png": "[encoded data removed]",
      "text/plain": [
       "<Figure size 432x288 with 1 Axes>"
      ]
     },
     "metadata": {
      "needs_background": "light"
     },
     "output_type": "display_data"
    }
   ],
   "source": [
    "sns.boxplot(lengths)\n",
    "plt.show()"
   ]
  },
  {
   "cell_type": "code",
   "execution_count": 117,
   "metadata": {},
   "outputs": [],
   "source": [
    "# Pad each sequence to MAX_SEQ_LENGTH using KERAS' pad_sequences() function. \n",
    "# Sentences longer than MAX_SEQ_LENGTH are truncated.\n",
    "# Sentences shorter than MAX_SEQ_LENGTH are padded with zeroes.\n",
    "\n",
    "# Truncation and padding can either be 'pre' or 'post'. \n",
    "# For padding we are using 'pre' padding type, that is, add zeroes on the left side.\n",
    "# For truncation, we are using 'post', that is, truncate a sentence from right side.\n",
    "\n",
    "MAX_SEQ_LENGTH = 100  # sequences greater than 100 in length will be truncated\n",
    "\n",
    "X_padded = pad_sequences(X_encoded, maxlen=MAX_SEQ_LENGTH, padding=\"pre\", truncating=\"post\")"
   ]
  },
  {
   "cell_type": "code",
   "execution_count": 118,
   "metadata": {},
   "outputs": [
    {
     "name": "stdout",
     "output_type": "stream",
     "text": [
      "[   0    0    0    0    0    0    0    0    0    0    0    0    0    0\n",
      "    0    0    0    0    0    0    0    0    0    0    0    0    0    0\n",
      "    0    0    0    0    0    0    0    0    0    0    0    0    0    0\n",
      "    0    0    0    0    0    0    0    0    0    0    0    0    0    0\n",
      "    0    0    0    0    0    0    0    0    0    0    0    0    0    0\n",
      "    0    0    0    0    0    0    0    0    0    0    0    0   42    1\n",
      "   97    2  716 9989  572  367 9990  146  185 3693  105 3693  509 3693\n",
      "  312 3693] \n",
      "\n"
     ]
    }
   ],
   "source": [
    "# print the first sequence\n",
    "print(X_padded[0], \"\\n\")"
   ]
  },
  {
   "cell_type": "code",
   "execution_count": 119,
   "metadata": {},
   "outputs": [],
   "source": [
    "X = X_padded"
   ]
  },
  {
   "cell_type": "code",
   "execution_count": 120,
   "metadata": {},
   "outputs": [],
   "source": [
    "# C:\\Users\\Preeti\\Neural Network\\RNN\\QuestionsClassification\n",
    "\n",
    "# word2vec download link (Size ~ 1.5GB): https://drive.google.com/file/d/0B7XkCwpI5KDYNlNUTTlSS21pQmM/edit\n",
    "\n",
    "path = 'C:\\\\Users\\\\Preeti\\\\Neural Network\\\\RNN\\\\QuestionsClassification\\\\GoogleNews-vectors-negative300.bin'\n",
    "\n",
    "# load word2vec using the following function present in the gensim library\n",
    "word2vec = KeyedVectors.load_word2vec_format(path, binary=True)"
   ]
  },
  {
   "cell_type": "code",
   "execution_count": 121,
   "metadata": {},
   "outputs": [
    {
     "ename": "MemoryError",
     "evalue": "",
     "output_type": "error",
     "traceback": [
      "\u001b[1;31m---------------------------------------------------------------------------\u001b[0m",
      "\u001b[1;31mMemoryError\u001b[0m                               Traceback (most recent call last)",
      "\u001b[1;32m<ipython-input-121-d34054f5b130>\u001b[0m in \u001b[0;36m<module>\u001b[1;34m()\u001b[0m\n\u001b[0;32m      1\u001b[0m \u001b[1;31m# word2vec effectiveness\u001b[0m\u001b[1;33m\u001b[0m\u001b[1;33m\u001b[0m\u001b[0m\n\u001b[1;32m----> 2\u001b[1;33m \u001b[0mword2vec\u001b[0m\u001b[1;33m.\u001b[0m\u001b[0mmost_similar\u001b[0m\u001b[1;33m(\u001b[0m\u001b[0mpositive\u001b[0m \u001b[1;33m=\u001b[0m \u001b[1;33m[\u001b[0m\u001b[1;34m\"King\"\u001b[0m\u001b[1;33m,\u001b[0m \u001b[1;34m\"Woman\"\u001b[0m\u001b[1;33m]\u001b[0m\u001b[1;33m,\u001b[0m \u001b[0mnegative\u001b[0m \u001b[1;33m=\u001b[0m \u001b[1;33m[\u001b[0m\u001b[1;34m\"Man\"\u001b[0m\u001b[1;33m]\u001b[0m\u001b[1;33m)\u001b[0m\u001b[1;33m\u001b[0m\u001b[0m\n\u001b[0m",
      "\u001b[1;32mC:\\ProgramData\\Anaconda3\\lib\\site-packages\\gensim\\models\\keyedvectors.py\u001b[0m in \u001b[0;36mmost_similar\u001b[1;34m(self, positive, negative, topn, restrict_vocab, indexer)\u001b[0m\n\u001b[0;32m    529\u001b[0m             \u001b[0mnegative\u001b[0m \u001b[1;33m=\u001b[0m \u001b[1;33m[\u001b[0m\u001b[1;33m]\u001b[0m\u001b[1;33m\u001b[0m\u001b[0m\n\u001b[0;32m    530\u001b[0m \u001b[1;33m\u001b[0m\u001b[0m\n\u001b[1;32m--> 531\u001b[1;33m         \u001b[0mself\u001b[0m\u001b[1;33m.\u001b[0m\u001b[0minit_sims\u001b[0m\u001b[1;33m(\u001b[0m\u001b[1;33m)\u001b[0m\u001b[1;33m\u001b[0m\u001b[0m\n\u001b[0m\u001b[0;32m    532\u001b[0m \u001b[1;33m\u001b[0m\u001b[0m\n\u001b[0;32m    533\u001b[0m         \u001b[1;32mif\u001b[0m \u001b[0misinstance\u001b[0m\u001b[1;33m(\u001b[0m\u001b[0mpositive\u001b[0m\u001b[1;33m,\u001b[0m \u001b[0mstring_types\u001b[0m\u001b[1;33m)\u001b[0m \u001b[1;32mand\u001b[0m \u001b[1;32mnot\u001b[0m \u001b[0mnegative\u001b[0m\u001b[1;33m:\u001b[0m\u001b[1;33m\u001b[0m\u001b[0m\n",
      "\u001b[1;32mC:\\ProgramData\\Anaconda3\\lib\\site-packages\\gensim\\models\\keyedvectors.py\u001b[0m in \u001b[0;36minit_sims\u001b[1;34m(self, replace)\u001b[0m\n\u001b[0;32m   1352\u001b[0m         \u001b[1;32mif\u001b[0m \u001b[0mgetattr\u001b[0m\u001b[1;33m(\u001b[0m\u001b[0mself\u001b[0m\u001b[1;33m,\u001b[0m \u001b[1;34m'vectors_norm'\u001b[0m\u001b[1;33m,\u001b[0m \u001b[1;32mNone\u001b[0m\u001b[1;33m)\u001b[0m \u001b[1;32mis\u001b[0m \u001b[1;32mNone\u001b[0m \u001b[1;32mor\u001b[0m \u001b[0mreplace\u001b[0m\u001b[1;33m:\u001b[0m\u001b[1;33m\u001b[0m\u001b[0m\n\u001b[0;32m   1353\u001b[0m             \u001b[0mlogger\u001b[0m\u001b[1;33m.\u001b[0m\u001b[0minfo\u001b[0m\u001b[1;33m(\u001b[0m\u001b[1;34m\"precomputing L2-norms of word weight vectors\"\u001b[0m\u001b[1;33m)\u001b[0m\u001b[1;33m\u001b[0m\u001b[0m\n\u001b[1;32m-> 1354\u001b[1;33m             \u001b[0mself\u001b[0m\u001b[1;33m.\u001b[0m\u001b[0mvectors_norm\u001b[0m \u001b[1;33m=\u001b[0m \u001b[0m_l2_norm\u001b[0m\u001b[1;33m(\u001b[0m\u001b[0mself\u001b[0m\u001b[1;33m.\u001b[0m\u001b[0mvectors\u001b[0m\u001b[1;33m,\u001b[0m \u001b[0mreplace\u001b[0m\u001b[1;33m=\u001b[0m\u001b[0mreplace\u001b[0m\u001b[1;33m)\u001b[0m\u001b[1;33m\u001b[0m\u001b[0m\n\u001b[0m\u001b[0;32m   1355\u001b[0m \u001b[1;33m\u001b[0m\u001b[0m\n\u001b[0;32m   1356\u001b[0m     \u001b[1;32mdef\u001b[0m \u001b[0mrelative_cosine_similarity\u001b[0m\u001b[1;33m(\u001b[0m\u001b[0mself\u001b[0m\u001b[1;33m,\u001b[0m \u001b[0mwa\u001b[0m\u001b[1;33m,\u001b[0m \u001b[0mwb\u001b[0m\u001b[1;33m,\u001b[0m \u001b[0mtopn\u001b[0m\u001b[1;33m=\u001b[0m\u001b[1;36m10\u001b[0m\u001b[1;33m)\u001b[0m\u001b[1;33m:\u001b[0m\u001b[1;33m\u001b[0m\u001b[0m\n",
      "\u001b[1;32mC:\\ProgramData\\Anaconda3\\lib\\site-packages\\gensim\\models\\keyedvectors.py\u001b[0m in \u001b[0;36m_l2_norm\u001b[1;34m(m, replace)\u001b[0m\n\u001b[0;32m   2375\u001b[0m         \u001b[1;32mreturn\u001b[0m \u001b[0mm\u001b[0m\u001b[1;33m\u001b[0m\u001b[0m\n\u001b[0;32m   2376\u001b[0m     \u001b[1;32melse\u001b[0m\u001b[1;33m:\u001b[0m\u001b[1;33m\u001b[0m\u001b[0m\n\u001b[1;32m-> 2377\u001b[1;33m         \u001b[1;32mreturn\u001b[0m \u001b[1;33m(\u001b[0m\u001b[0mm\u001b[0m \u001b[1;33m/\u001b[0m \u001b[0mdist\u001b[0m\u001b[1;33m)\u001b[0m\u001b[1;33m.\u001b[0m\u001b[0mastype\u001b[0m\u001b[1;33m(\u001b[0m\u001b[0mREAL\u001b[0m\u001b[1;33m)\u001b[0m\u001b[1;33m\u001b[0m\u001b[0m\n\u001b[0m\u001b[0;32m   2378\u001b[0m \u001b[1;33m\u001b[0m\u001b[0m\n\u001b[0;32m   2379\u001b[0m \u001b[1;33m\u001b[0m\u001b[0m\n",
      "\u001b[1;31mMemoryError\u001b[0m: "
     ]
    }
   ],
   "source": [
    "# word2vec effectiveness\n",
    "word2vec.most_similar(positive = [\"King\", \"Woman\"], negative = [\"Man\"])"
   ]
  },
  {
   "cell_type": "code",
   "execution_count": 125,
   "metadata": {},
   "outputs": [],
   "source": [
    "# assign word vectors from word2vec model\n",
    "\n",
    "EMBEDDING_SIZE  = 300  # each word in word2vec model is represented using a 300 dimensional vector\n",
    "VOCABULARY_SIZE = len(word_tokenizer.word_index) + 1\n",
    "\n",
    "# create an empty embedding matix\n",
    "embedding_weights = np.zeros((VOCABULARY_SIZE, EMBEDDING_SIZE))\n",
    "\n",
    "# create a word to index dictionary mapping\n",
    "word2id = word_tokenizer.word_index\n",
    "\n",
    "# copy vectors from word2vec model to the words present in corpus\n",
    "for word, index in word2id.items():\n",
    "    try:\n",
    "        embedding_weights[index, :] = word2vec[word]\n",
    "    except KeyError:\n",
    "        pass"
   ]
  },
  {
   "cell_type": "code",
   "execution_count": 126,
   "metadata": {},
   "outputs": [
    {
     "data": {
      "text/plain": [
       "(11248,)"
      ]
     },
     "execution_count": 126,
     "metadata": {},
     "output_type": "execute_result"
    }
   ],
   "source": [
    "Y.shape\n",
    "#X.shape"
   ]
  },
  {
   "cell_type": "code",
   "execution_count": 127,
   "metadata": {},
   "outputs": [
    {
     "name": "stdout",
     "output_type": "stream",
     "text": [
      "Embeddings shape: (26014, 300)\n"
     ]
    }
   ],
   "source": [
    "# check embedding dimension\n",
    "print(\"Embeddings shape: {}\".format(embedding_weights.shape))"
   ]
  },
  {
   "cell_type": "code",
   "execution_count": 128,
   "metadata": {},
   "outputs": [
    {
     "data": {
      "text/plain": [
       "array([ 0.4453125 , -0.20019531,  0.20019531, -0.03149414,  0.078125  ,\n",
       "       -0.390625  ,  0.13671875, -0.13867188,  0.05395508,  0.10546875,\n",
       "       -0.05029297, -0.23730469,  0.19921875,  0.12597656, -0.12695312,\n",
       "        0.34179688,  0.06347656,  0.26757812, -0.07324219, -0.29101562,\n",
       "        0.10498047,  0.11914062,  0.23730469,  0.00640869,  0.12451172,\n",
       "       -0.00939941, -0.02770996,  0.03076172,  0.07421875, -0.22851562,\n",
       "       -0.08056641, -0.05273438,  0.16894531,  0.19824219, -0.15625   ,\n",
       "       -0.08740234,  0.10742188, -0.07177734,  0.05200195,  0.25976562,\n",
       "        0.171875  , -0.13574219,  0.06738281,  0.00531006,  0.15527344,\n",
       "       -0.03515625,  0.08789062,  0.3359375 , -0.12890625,  0.17578125,\n",
       "       -0.08642578,  0.32421875, -0.09033203,  0.35351562,  0.24316406,\n",
       "       -0.07470703, -0.06640625, -0.17578125,  0.06689453, -0.03833008,\n",
       "        0.0100708 , -0.21484375, -0.03686523,  0.04394531,  0.02209473,\n",
       "        0.00219727, -0.22460938,  0.03015137, -0.21582031,  0.16015625,\n",
       "        0.23339844, -0.16699219, -0.09228516,  0.10644531,  0.19335938,\n",
       "       -0.26757812,  0.15722656, -0.08691406,  0.11181641,  0.14941406,\n",
       "       -0.20507812,  0.04882812, -0.07519531, -0.21582031, -0.10107422,\n",
       "       -0.13378906, -0.06103516,  0.05444336,  0.07470703,  0.09521484,\n",
       "       -0.0144043 ,  0.27929688, -0.25585938, -0.05273438, -0.22460938,\n",
       "        0.10253906, -0.15136719,  0.21289062, -0.04711914, -0.12109375,\n",
       "        0.04663086,  0.25976562,  0.13574219,  0.00799561,  0.02001953,\n",
       "        0.1796875 ,  0.30664062,  0.06152344,  0.13574219, -0.09619141,\n",
       "       -0.07421875,  0.38671875,  0.20800781,  0.12695312,  0.05200195,\n",
       "        0.17675781, -0.16796875, -0.19335938, -0.06152344, -0.07568359,\n",
       "       -0.18457031,  0.06030273, -0.15136719, -0.1953125 , -0.23339844,\n",
       "        0.00738525, -0.02478027, -0.09765625, -0.06054688,  0.20214844,\n",
       "       -0.2734375 ,  0.00595093, -0.34570312, -0.12988281,  0.00418091,\n",
       "        0.09960938,  0.0246582 ,  0.15917969, -0.02038574,  0.30273438,\n",
       "       -0.20800781, -0.20214844, -0.03930664, -0.06494141,  0.00436401,\n",
       "       -0.02270508, -0.171875  ,  0.30273438, -0.16113281, -0.49414062,\n",
       "        0.3515625 ,  0.39257812,  0.09814453,  0.41796875,  0.05371094,\n",
       "        0.02392578, -0.03710938, -0.08251953, -0.38671875, -0.40625   ,\n",
       "       -0.05664062,  0.203125  , -0.01782227,  0.3359375 ,  0.19140625,\n",
       "       -0.44335938,  0.00927734,  0.24804688, -0.05102539,  0.19726562,\n",
       "        0.03881836,  0.03442383, -0.40039062, -0.09912109, -0.07128906,\n",
       "        0.21484375, -0.01422119,  0.04907227, -0.07421875, -0.21582031,\n",
       "       -0.41992188,  0.02172852,  0.11083984, -0.33398438, -0.2734375 ,\n",
       "       -0.05322266, -0.16601562, -0.28515625, -0.12207031,  0.04882812,\n",
       "       -0.0625    , -0.04077148, -0.16503906,  0.0480957 , -0.21191406,\n",
       "        0.20019531, -0.2109375 ,  0.10839844, -0.14648438, -0.07958984,\n",
       "       -0.05151367, -0.16601562, -0.24902344, -0.375     ,  0.05664062,\n",
       "       -0.13671875, -0.2578125 ,  0.28515625, -0.04736328,  0.13574219,\n",
       "       -0.14550781,  0.19433594, -0.21972656,  0.08447266, -0.10791016,\n",
       "       -0.11816406, -0.16015625,  0.12060547, -0.10888672,  0.04345703,\n",
       "        0.11474609, -0.08447266, -0.00720215,  0.03662109, -0.38671875,\n",
       "       -0.03881836, -0.03198242,  0.00344849,  0.22558594, -0.06787109,\n",
       "       -0.16699219,  0.2421875 ,  0.05712891,  0.27539062, -0.0456543 ,\n",
       "       -0.19042969, -0.17285156,  0.00836182, -0.03271484,  0.16992188,\n",
       "       -0.18554688, -0.0703125 , -0.32617188, -0.00668335, -0.02770996,\n",
       "        0.3359375 ,  0.125     , -0.2109375 ,  0.06005859, -0.07080078,\n",
       "        0.11132812,  0.125     ,  0.25390625,  0.29296875, -0.03125   ,\n",
       "        0.09033203, -0.20507812, -0.07861328,  0.02062988, -0.0546875 ,\n",
       "       -0.23339844,  0.00096893, -0.04516602,  0.16894531, -0.22167969,\n",
       "        0.08105469,  0.33398438,  0.09619141,  0.00866699, -0.03271484,\n",
       "        0.05493164,  0.12109375,  0.16210938, -0.10302734,  0.27148438,\n",
       "       -0.03344727, -0.30273438,  0.04223633,  0.08496094, -0.15527344,\n",
       "        0.10107422, -0.11474609, -0.13085938,  0.22949219,  0.12988281,\n",
       "        0.09863281, -0.03588867,  0.10693359, -0.24902344,  0.19238281,\n",
       "       -0.05322266, -0.09033203, -0.31640625, -0.5703125 , -0.15917969,\n",
       "        0.0291748 , -0.0246582 , -0.07714844, -0.04663086, -0.17578125])"
      ]
     },
     "execution_count": 128,
     "metadata": {},
     "output_type": "execute_result"
    }
   ],
   "source": [
    "# let's look at an embedding of a word\n",
    "embedding_weights[word_tokenizer.word_index['joy']]"
   ]
  },
  {
   "cell_type": "code",
   "execution_count": 129,
   "metadata": {},
   "outputs": [
    {
     "name": "stdout",
     "output_type": "stream",
     "text": [
      "['cold' 'cold' 'warm' 'cold' 'hot' 'hot' 'warm' 'cold' 'warm' 'hot']\n",
      "[0 0 2 0 1 1 2 0 2 1]\n",
      "[[1. 0. 0.]\n",
      " [1. 0. 0.]\n",
      " [0. 0. 1.]\n",
      " [1. 0. 0.]\n",
      " [0. 1. 0.]\n",
      " [0. 1. 0.]\n",
      " [0. 0. 1.]\n",
      " [1. 0. 0.]\n",
      " [0. 0. 1.]\n",
      " [0. 1. 0.]]\n"
     ]
    }
   ],
   "source": [
    "# Example for one hot encoding\n",
    "\n",
    "from numpy import array\n",
    "from numpy import argmax\n",
    "from sklearn.preprocessing import LabelEncoder\n",
    "from sklearn.preprocessing import OneHotEncoder\n",
    "# define example\n",
    "data = ['cold', 'cold', 'warm', 'cold', 'hot', 'hot', 'warm', 'cold', 'warm', 'hot']\n",
    "values = array(data)\n",
    "print(values)\n",
    "# integer encode\n",
    "label_encoder = LabelEncoder()\n",
    "integer_encoded = label_encoder.fit_transform(values)\n",
    "print(integer_encoded)\n",
    "#Y = \n",
    "# binary encode\n",
    "onehot_encoder = OneHotEncoder(sparse=False)\n",
    "integer_encoded = integer_encoded.reshape(len(integer_encoded), 1)\n",
    "onehot_encoded = onehot_encoder.fit_transform(integer_encoded)\n",
    "print(onehot_encoded)\n",
    "# invert first example\n",
    "\n",
    "#inverted = label_encoder.inverse_transform([argmax(onehot_encoded[0, :])])\n",
    "#print(inverted)"
   ]
  },
  {
   "cell_type": "markdown",
   "metadata": {},
   "source": [
    "## Split data in training, validation and tesing sets"
   ]
  },
  {
   "cell_type": "code",
   "execution_count": 130,
   "metadata": {},
   "outputs": [],
   "source": [
    "# split entire data into training and testing sets\n",
    "TEST_SIZE = 0.15\n",
    "X_train, X_test, Y_train, Y_test = train_test_split(X, Y, test_size=TEST_SIZE, random_state=4)"
   ]
  },
  {
   "cell_type": "code",
   "execution_count": 131,
   "metadata": {},
   "outputs": [],
   "source": [
    "# split training data into training and validation sets\n",
    "VALID_SIZE = 0.15\n",
    "X_train, X_validation, Y_train, Y_validation = train_test_split(X_train, Y_train, test_size=VALID_SIZE, random_state=4)"
   ]
  },
  {
   "cell_type": "code",
   "execution_count": 132,
   "metadata": {},
   "outputs": [
    {
     "name": "stdout",
     "output_type": "stream",
     "text": [
      "TRAINING DATA\n",
      "Shape of input sequences: (8126, 100)\n",
      "Shape of output sequences: (8126,)\n",
      "--------------------------------------------------\n",
      "VALIDATION DATA\n",
      "Shape of input sequences: (1434, 100)\n",
      "Shape of output sequences: (1434,)\n",
      "--------------------------------------------------\n",
      "TESTING DATA\n",
      "Shape of input sequences: (1688, 100)\n",
      "Shape of output sequences: (1688,)\n"
     ]
    }
   ],
   "source": [
    "# print number of samples in each set\n",
    "print(\"TRAINING DATA\")\n",
    "print('Shape of input sequences: {}'.format(X_train.shape))\n",
    "print('Shape of output sequences: {}'.format(Y_train.shape))\n",
    "print(\"-\"*50)\n",
    "print(\"VALIDATION DATA\")\n",
    "print('Shape of input sequences: {}'.format(X_validation.shape))\n",
    "print('Shape of output sequences: {}'.format(Y_validation.shape))\n",
    "print(\"-\"*50)\n",
    "print(\"TESTING DATA\")\n",
    "print('Shape of input sequences: {}'.format(X_test.shape))\n",
    "print('Shape of output sequences: {}'.format(Y_test.shape))"
   ]
  },
  {
   "cell_type": "code",
   "execution_count": 133,
   "metadata": {},
   "outputs": [
    {
     "name": "stderr",
     "output_type": "stream",
     "text": [
      "WARNING: Logging before flag parsing goes to stderr.\n",
      "W0728 23:05:35.665223 17832 deprecation_wrapper.py:119] From C:\\ProgramData\\Anaconda3\\lib\\site-packages\\keras\\backend\\tensorflow_backend.py:74: The name tf.get_default_graph is deprecated. Please use tf.compat.v1.get_default_graph instead.\n",
      "\n",
      "W0728 23:05:36.057174 17832 deprecation_wrapper.py:119] From C:\\ProgramData\\Anaconda3\\lib\\site-packages\\keras\\backend\\tensorflow_backend.py:517: The name tf.placeholder is deprecated. Please use tf.compat.v1.placeholder instead.\n",
      "\n",
      "W0728 23:05:36.150922 17832 deprecation_wrapper.py:119] From C:\\ProgramData\\Anaconda3\\lib\\site-packages\\keras\\backend\\tensorflow_backend.py:4138: The name tf.random_uniform is deprecated. Please use tf.random.uniform instead.\n",
      "\n",
      "W0728 23:05:36.378344 17832 deprecation_wrapper.py:119] From C:\\ProgramData\\Anaconda3\\lib\\site-packages\\keras\\backend\\tensorflow_backend.py:174: The name tf.get_default_session is deprecated. Please use tf.compat.v1.get_default_session instead.\n",
      "\n",
      "W0728 23:05:36.380310 17832 deprecation_wrapper.py:119] From C:\\ProgramData\\Anaconda3\\lib\\site-packages\\keras\\backend\\tensorflow_backend.py:181: The name tf.ConfigProto is deprecated. Please use tf.compat.v1.ConfigProto instead.\n",
      "\n",
      "W0728 23:05:36.824133 17832 deprecation.py:506] From C:\\ProgramData\\Anaconda3\\lib\\site-packages\\keras\\backend\\tensorflow_backend.py:3445: calling dropout (from tensorflow.python.ops.nn_ops) with keep_prob is deprecated and will be removed in a future version.\n",
      "Instructions for updating:\n",
      "Please use `rate` instead of `keep_prob`. Rate should be set to `rate = 1 - keep_prob`.\n"
     ]
    }
   ],
   "source": [
    "# create architecture\n",
    "from keras.layers import Flatten, GRU\n",
    "\n",
    "rnn_model = Sequential()\n",
    "\n",
    "# create embedding layer - usually the first layer in text problems\n",
    "rnn_model.add(Embedding(input_dim     =  VOCABULARY_SIZE,         # vocabulary size - number of unique words in data\n",
    "                        output_dim    =  EMBEDDING_SIZE,          # length of vector with which each word is represented\n",
    "                        input_length  =  MAX_SEQ_LENGTH,          # length of input sequence\n",
    "                        weights       = [embedding_weights],      # word embedding matrix\n",
    "                        trainable     =  True                    # False - don't update the embeddings\n",
    "))\n",
    "\n",
    "#rnn_model.add(Embedding(input_dim     =  VOCABULARY_SIZE,         # vocabulary size - number of unique words in data\n",
    "#                        output_dim    =  EMBEDDING_SIZE,          # length of vector with which each word is represented\n",
    "#                        input_length  =  MAX_SEQ_LENGTH,          # length of input sequence\n",
    "#                        weights       = [embedding_weights],      # word embedding matrix\n",
    "#                        trainable     =  True                    # False - don't update the embeddings\n",
    "#))\n",
    "#rnn_model.add(Embedding(VOCABULARY_SIZE, output_dim=8))\n",
    "# add an RNN layer which contains 64 RNN cells\n",
    "#rnn_model.add(SimpleRNN(64, \n",
    "#              return_sequences=True  # True - return whole sequence; False - return single output of the end of the sequence\n",
    "#))\n",
    "\n",
    "# add time distributed (output at each sequence) layer\n",
    "#rnn_model.add(TimeDistributed(Dense(NUM_CLASSES, activation='softmax')))\n",
    "\n",
    "#rnn_model.add(Dense(NUM_CLASSES, activation='softmax' ))\n",
    "#Flatten Layers\n",
    "#rnn_model.add(Flatten())\n",
    "\n",
    "#rnn_model.add(Dense(8, activation='relu'))\n",
    "#model.add(Dropout(0.5))\n",
    "\n",
    "#model.add(Dense(no_dense[1], activation='relu'))\n",
    "#model.add(Dropout(0.5))\n",
    "rnn_model.add(GRU(units=32, dropout=0.2, recurrent_dropout=0.2))\n",
    "#softmax layer\n",
    "rnn_model.add(Dense(1, activation='sigmoid'))\n",
    "\n",
    "\n",
    "#model = Sequential()\n",
    "#model.add(Embedding(MAX_NB_WORDS, EMBEDDING_DIM, input_length=X.shape[1]))\n",
    "#model.add(SpatialDropout1D(0.2))\n",
    "#model.add(LSTM(100, dropout=0.2, recurrent_dropout=0.2))\n",
    "#model.add(Dense(13, activation='softmax'))\n",
    "#model.compile(loss='categorical_crossentropy', optimizer='adam', metrics=['accuracy'])\n",
    "# embedding_weights\n"
   ]
  },
  {
   "cell_type": "code",
   "execution_count": 134,
   "metadata": {},
   "outputs": [
    {
     "name": "stderr",
     "output_type": "stream",
     "text": [
      "W0728 23:06:10.696504 17832 deprecation_wrapper.py:119] From C:\\ProgramData\\Anaconda3\\lib\\site-packages\\keras\\optimizers.py:790: The name tf.train.Optimizer is deprecated. Please use tf.compat.v1.train.Optimizer instead.\n",
      "\n",
      "W0728 23:06:10.728418 17832 deprecation.py:323] From C:\\ProgramData\\Anaconda3\\lib\\site-packages\\tensorflow\\python\\ops\\nn_impl.py:180: add_dispatch_support.<locals>.wrapper (from tensorflow.python.ops.array_ops) is deprecated and will be removed in a future version.\n",
      "Instructions for updating:\n",
      "Use tf.where in 2.0, which has the same broadcast rule as np.where\n"
     ]
    }
   ],
   "source": [
    "rnn_model.compile(loss      =  'binary_crossentropy', # loss      =  'sparse_categorical_crossentropy'\n",
    "                  optimizer =  'adam',\n",
    "                  metrics   =  ['acc'])"
   ]
  },
  {
   "cell_type": "code",
   "execution_count": 135,
   "metadata": {},
   "outputs": [
    {
     "name": "stdout",
     "output_type": "stream",
     "text": [
      "_________________________________________________________________\n",
      "Layer (type)                 Output Shape              Param #   \n",
      "=================================================================\n",
      "embedding_1 (Embedding)      (None, 100, 300)          7804200   \n",
      "_________________________________________________________________\n",
      "gru_1 (GRU)                  (None, 32)                31968     \n",
      "_________________________________________________________________\n",
      "dense_1 (Dense)              (None, 1)                 33        \n",
      "=================================================================\n",
      "Total params: 7,836,201\n",
      "Trainable params: 7,836,201\n",
      "Non-trainable params: 0\n",
      "_________________________________________________________________\n"
     ]
    }
   ],
   "source": [
    "# check summary of the model\n",
    "rnn_model.summary()"
   ]
  },
  {
   "cell_type": "code",
   "execution_count": 136,
   "metadata": {},
   "outputs": [
    {
     "name": "stdout",
     "output_type": "stream",
     "text": [
      "Train on 8126 samples, validate on 1434 samples\n",
      "Epoch 1/10\n",
      "8126/8126 [==============================] - 18s 2ms/step - loss: 0.4875 - acc: 0.7810 - val_loss: 0.2450 - val_acc: 0.9086\n",
      "Epoch 2/10\n",
      "8126/8126 [==============================] - 17s 2ms/step - loss: 0.2037 - acc: 0.9259 - val_loss: 0.1691 - val_acc: 0.9379\n",
      "Epoch 3/10\n",
      "8126/8126 [==============================] - 17s 2ms/step - loss: 0.1203 - acc: 0.9626 - val_loss: 0.1674 - val_acc: 0.9393\n",
      "Epoch 4/10\n",
      "8126/8126 [==============================] - 17s 2ms/step - loss: 0.0874 - acc: 0.9733 - val_loss: 0.1582 - val_acc: 0.9463\n",
      "Epoch 5/10\n",
      "8126/8126 [==============================] - 16s 2ms/step - loss: 0.0633 - acc: 0.9793 - val_loss: 0.1704 - val_acc: 0.9435\n",
      "Epoch 6/10\n",
      "8126/8126 [==============================] - 16s 2ms/step - loss: 0.0486 - acc: 0.9868 - val_loss: 0.1704 - val_acc: 0.9484\n",
      "Epoch 7/10\n",
      "8126/8126 [==============================] - 17s 2ms/step - loss: 0.0383 - acc: 0.9900 - val_loss: 0.1850 - val_acc: 0.9449\n",
      "Epoch 8/10\n",
      "8126/8126 [==============================] - 16s 2ms/step - loss: 0.0310 - acc: 0.9910 - val_loss: 0.1819 - val_acc: 0.9442\n",
      "Epoch 9/10\n",
      "8126/8126 [==============================] - 16s 2ms/step - loss: 0.0249 - acc: 0.9927 - val_loss: 0.1948 - val_acc: 0.9470\n",
      "Epoch 10/10\n",
      "8126/8126 [==============================] - 16s 2ms/step - loss: 0.0266 - acc: 0.9920 - val_loss: 0.1886 - val_acc: 0.9400\n"
     ]
    }
   ],
   "source": [
    "rnn_training = rnn_model.fit(X_train, Y_train, batch_size=128, epochs=10, validation_data=(X_validation, Y_validation))"
   ]
  },
  {
   "cell_type": "code",
   "execution_count": 137,
   "metadata": {},
   "outputs": [
    {
     "data": {
      "text/plain": [
       "array([[0.0012832 ],\n",
       "       [0.9797549 ],\n",
       "       [0.00371408],\n",
       "       ...,\n",
       "       [0.00810081],\n",
       "       [0.99982345],\n",
       "       [0.9962699 ]], dtype=float32)"
      ]
     },
     "execution_count": 137,
     "metadata": {},
     "output_type": "execute_result"
    }
   ],
   "source": [
    "# X_test\n",
    "rnn_model.predict(x = X_test)"
   ]
  },
  {
   "cell_type": "code",
   "execution_count": 138,
   "metadata": {},
   "outputs": [
    {
     "data": {
      "text/plain": [
       "array([[    0,     0,     0, ...,  1692,    54,    24],\n",
       "       [    0,     0,     0, ...,   486,   660,   372],\n",
       "       [    0,     0,     0, ...,    88,   181,    53],\n",
       "       ...,\n",
       "       [   12,   827,     6, ...,    32,    16,     3],\n",
       "       [    0,     0,     0, ...,    18,    24,    28],\n",
       "       [    0,     0,     0, ...,    77,    21, 14261]])"
      ]
     },
     "execution_count": 138,
     "metadata": {},
     "output_type": "execute_result"
    }
   ],
   "source": [
    "X_test"
   ]
  },
  {
   "cell_type": "code",
   "execution_count": 139,
   "metadata": {},
   "outputs": [
    {
     "data": {
      "text/plain": [
       "/quantitativeaptitude/geometry_mensuration/mensuration/level_03/                                                                                                                                            50\n",
       "/quantitativeaptitude/arithmetic/si_ci/level_01/                                                                                                                                                            50\n",
       "/logicalreasoning/verbal_reasoning/sitting_arrangement/level_03/                                                                                                                                            50\n",
       "/quantitativeaptitude/geometry_mensuration/geometry/level_02/                                                                                                                                               50\n",
       "/logicalreasoning/analytical_reasoning/syllogism_master/level_02/                                                                                                                                           50\n",
       "/quantitativeaptitude/arithmetic/ratio_proportion/level_01/                                                                                                                                                 50\n",
       "/logicalreasoning/verbal_reasoning/dictionary-arrangemnet/level_01/                                                                                                                                         50\n",
       "/logicalreasoning/verbal_reasoning/sitting_arrangement/level_01/                                                                                                                                            50\n",
       "/quantitativeaptitude/arithmetic/profit_loss/level_01/                                                                                                                                                      50\n",
       "/quantitativeaptitude/arithmetic/ratio_proportion/level_02/                                                                                                                                                 50\n",
       "/quantitativeaptitude/arithmetic/percentage/level_01/                                                                                                                                                       50\n",
       "/quantitativeaptitude/algebra_bucket/miscellaneous/level_01/                                                                                                                                                50\n",
       "/logicalreasoning/verbal_reasoning/analogy_master/level_01/                                                                                                                                                 50\n",
       "/logicalreasoning/verbal_reasoning/sitting_arrangement/linear-parallel-arrangement/level02/                                                                                                                 50\n",
       "/quantitativeaptitude/arithmetic/profit_loss/level_03/                                                                                                                                                      50\n",
       "/quantitativeaptitude/trignometry_bucket/trignometry/level_03/                                                                                                                                              50\n",
       "/quantitativeaptitude/algebra_bucket/inequalities/level_03/                                                                                                                                                 50\n",
       "/quantitativeaptitude/arithmetic/si_ci/level_03/                                                                                                                                                            50\n",
       "/logicalreasoning/verbal_reasoning/clocks_master/level_01/                                                                                                                                                  50\n",
       "/logicalreasoning/verbal_reasoning/direction_and_distance/level_02/                                                                                                                                         50\n",
       "/logicalreasoning/verbal_reasoning/word_formation/level_02/                                                                                                                                                 50\n",
       "/logicalreasoning/verbal_reasoning/mathematical_operation/level_02/                                                                                                                                         50\n",
       "/logicalreasoning/analytical_reasoning/syllogism_master/level_03/                                                                                                                                           50\n",
       "/quantitativeaptitude/arithmetic/averages/level_01/                                                                                                                                                         50\n",
       "/quantitativeaptitude/number_theory/series/level_03/                                                                                                                                                        50\n",
       "/quantitativeaptitude/data_interpretation/level_02/                                                                                                                                                         50\n",
       "/quantitativeaptitude/data_sufficiency/level_03/                                                                                                                                                            50\n",
       "/logicalreasoning/non_verbal_reasoning/mirror_image/level_01/                                                                                                                                               50\n",
       "/logicalreasoning/verbal_reasoning/clocks_master/level_02/                                                                                                                                                  50\n",
       "/logicalreasoning/non_verbal_reasoning/counting_of_figures/level_01/                                                                                                                                        50\n",
       "                                                                                                                                                                                                            ..\n",
       "/quantitativeaptitude/number_theory/number_of_zeros/level_02/                                                                                                                                                1\n",
       "2:\"<p><b style=\\\"background-color: initial;\\\">ans: (a)</b><br></p><p><span><span>\\n<img src=\\\"data:image;base64                                                                                              1\n",
       "1:\"<p>&nbsp; &nbsp;&nbsp;</p><p><b>ans: (b)</b></p><p><span><span>\\n<img src=\\\"data:image;base64                                                                                                             1\n",
       "3:\"<p><span><b>ans: (e)</b></span></p><p><span><span><span class=\\\"svg_desc\\\">\\n<img src=\\\"data:image;base64                                                                                                 1\n",
       "/logicalreasoning/verbal_reasoning/data_sufficiency/three-statements/level01/                                                                                                                                1\n",
       "4:\"<p>&nbsp; &nbsp;&nbsp;</p><p><b>ans: (d)</b></p><p><span><span>\\n<img src=\\\"data:image;base64                                                                                                             1\n",
       "/logicalreasoning/non_verbal_reasoning/cubes_master/level_03/                                                                                                                                                1\n",
       "/logicalreasoning/verbal_reasoning/blood_relation/single/level03/                                                                                                                                            1\n",
       "/logicalreasoning/non_verbal_reasoning/completion_of_series/                                                                                                                                                 1\n",
       "/logicalreasoning/non_verbal_reasoning/embedded_figures/                                                                                                                                                     1\n",
       "/quantitativeaptitude/number_theory/divisibility/level-04/                                                                                                                                                   1\n",
       "3:\"<p><span><b>ans: (d)</b></span></p><p><img src=\\\"data:image;base64                                                                                                                                        1\n",
       "/logicalreasoning/verbal_reasoning/puzzles_master/box-puzzle/level-01/                                                                                                                                       1\n",
       "3:\"<p><b style=\\\"background-color: initial;\\\">ans: (c)</b><br></p><p><span><span>\\n<img src=\\\"data:image;base64                                                                                              1\n",
       "4:\"<p><b style=\\\"background-color: initial;\\\">ans: (e)</b><br></p><p><span><span>\\n<img src=\\\"data:image;base64                                                                                              1\n",
       "1:\"<p><span><b>ans: (b)</b></span></p><p><span style=\\\"background-color: initial;\\\">&nbsp;</span><span><span><span class=\\\"svg_desc\\\">\\n<img src=\\\"data:image;base64                                         1\n",
       "/quantitativeaptitude/number_theory/base_system/level_03/                                                                                                                                                    1\n",
       "/quantitativeaptitude/modern_maths/probability/level_04/                                                                                                                                                     1\n",
       "/logicalreasoning/verbal_reasoning/sitting_arrangement/linear-parallel-arrangement/                                                                                                                          1\n",
       "/logicalreasoning/verbal_reasoning/number-series/alphabet-series/comp/level-01/                                                                                                                              1\n",
       "subquestion:[{\"title\":\"on which of the following days was ...\"                                                                                                                                               1\n",
       "2:\"<p><b>ans: (a)</b></p><p><span><span><span class=\\\"svg_desc\\\">\\n<img src=\\\"data:image;base64                                                                                                              1\n",
       "4:\"<p><span><b>ans: (d)</b></span><span style=\\\"background-color: initial;\\\">&nbsp;</span><img src=\\\"data:image;base64                                                                                       1\n",
       " then n sits in the third seat to the right of a.</span></p>\"                                                                                                                                                1\n",
       " the value di e will be maximum in that year when the percentage profit is the minimum.<\\/p>\"]]'                                                                                                             1\n",
       "2:\"<p>&nbsp; &nbsp;&nbsp;</p><p><b>ans: (e)</b></p><p><span><span>\\n<img src=\\\"data:image;base64                                                                                                             1\n",
       "1:\"<p><span><b>ans: (e)</b></span></p><p><span><span><span class=\\\"svg_desc\\\">\\n<img src=\\\"data:image;base64                                                                                                 1\n",
       "/logicalreasoning/non_verbal_reasoning/figure_matrix/                                                                                                                                                        1\n",
       "2:\"<p><span><b>ans: (b)</b></span></p><p>it is given that three boxes are kept between the one which contains sharpeners and the one which contains dividers but none of them contains erasers or rulers     1\n",
       "/logicalreasoning/non_verbal_reasoning/completion_of_figures/                                                                                                                                                1\n",
       "Name: url, Length: 457, dtype: int64"
      ]
     },
     "execution_count": 139,
     "metadata": {},
     "output_type": "execute_result"
    }
   ],
   "source": [
    "dataset_new.url.value_counts()"
   ]
  },
  {
   "cell_type": "code",
   "execution_count": 140,
   "metadata": {},
   "outputs": [
    {
     "data": {
      "text/html": [
       "<div>\n",
       "<style scoped>\n",
       "    .dataframe tbody tr th:only-of-type {\n",
       "        vertical-align: middle;\n",
       "    }\n",
       "\n",
       "    .dataframe tbody tr th {\n",
       "        vertical-align: top;\n",
       "    }\n",
       "\n",
       "    .dataframe thead th {\n",
       "        text-align: right;\n",
       "    }\n",
       "</style>\n",
       "<table border=\"1\" class=\"dataframe\">\n",
       "  <thead>\n",
       "    <tr style=\"text-align: right;\">\n",
       "      <th></th>\n",
       "      <th>url</th>\n",
       "      <th>bucketId</th>\n",
       "      <th>QuestionId</th>\n",
       "      <th>Question_data</th>\n",
       "    </tr>\n",
       "  </thead>\n",
       "  <tbody>\n",
       "    <tr>\n",
       "      <th>count</th>\n",
       "      <td>11356</td>\n",
       "      <td>11353</td>\n",
       "      <td>11260</td>\n",
       "      <td>11658</td>\n",
       "    </tr>\n",
       "    <tr>\n",
       "      <th>unique</th>\n",
       "      <td>457</td>\n",
       "      <td>504</td>\n",
       "      <td>11249</td>\n",
       "      <td>10696</td>\n",
       "    </tr>\n",
       "    <tr>\n",
       "      <th>top</th>\n",
       "      <td>/quantitativeaptitude/geometry_mensuration/men...</td>\n",
       "      <td>2019</td>\n",
       "      <td>11810</td>\n",
       "      <td>nan</td>\n",
       "    </tr>\n",
       "    <tr>\n",
       "      <th>freq</th>\n",
       "      <td>50</td>\n",
       "      <td>50</td>\n",
       "      <td>2</td>\n",
       "      <td>430</td>\n",
       "    </tr>\n",
       "  </tbody>\n",
       "</table>\n",
       "</div>"
      ],
      "text/plain": [
       "                                                      url bucketId QuestionId  \\\n",
       "count                                               11356    11353      11260   \n",
       "unique                                                457      504      11249   \n",
       "top     /quantitativeaptitude/geometry_mensuration/men...     2019      11810   \n",
       "freq                                                   50       50          2   \n",
       "\n",
       "       Question_data  \n",
       "count          11658  \n",
       "unique         10696  \n",
       "top              nan  \n",
       "freq             430  "
      ]
     },
     "execution_count": 140,
     "metadata": {},
     "output_type": "execute_result"
    }
   ],
   "source": [
    "dataset_new.describe()"
   ]
  },
  {
   "cell_type": "code",
   "execution_count": null,
   "metadata": {},
   "outputs": [],
   "source": []
  }
 ],
 "metadata": {
  "kernelspec": {
   "display_name": "Python 3",
   "language": "python",
   "name": "python3"
  },
  "language_info": {
   "codemirror_mode": {
    "name": "ipython",
    "version": 3
   },
   "file_extension": ".py",
   "mimetype": "text/x-python",
   "name": "python",
   "nbconvert_exporter": "python",
   "pygments_lexer": "ipython3",
   "version": "3.7.0"
  }
 },
 "nbformat": 4,
 "nbformat_minor": 2
}
